{
 "cells": [
  {
   "cell_type": "code",
   "execution_count": null,
   "metadata": {},
   "outputs": [],
   "source": [
    "from pathlib import Path\n",
    "import seedir as sd\n",
    "import resistics.letsgo as letsgo\n",
    "import plotly"
   ]
  },
  {
   "cell_type": "code",
   "execution_count": null,
   "metadata": {},
   "outputs": [],
   "source": [
    "\n",
    "project_path = Path(\"..\", \"..\", \"data\", \"project\", \"kap03\")\n",
    "resenv = letsgo.load(project_path)"
   ]
  },
  {
   "cell_type": "code",
   "execution_count": null,
   "metadata": {},
   "outputs": [],
   "source": [
    "site = resenv.proj[\"kap160\"]\n",
    "for meas in site:\n",
    "    letsgo.process_time_to_evals(resenv, \"kap160\", meas.name)\n",
    "\n",
    "# %%\n",
    "# Now let's run single site processing on a site and then look at the directory\n",
    "# structure again. To run the transfer function calculation, the sampling\n",
    "# frequency to process needs to be specified. In this case, it's 0.2 Hz.\n",
    "letsgo.process_evals_to_tf(resenv, 0.2, \"kap160\")\n",
    "sd.seedir(str(project_path), style=\"emoji\")\n",
    "\n",
    "# %%\n",
    "# Get the transfer function\n",
    "soln = letsgo.get_solution(\n",
    "    resenv,\n",
    "    \"kap160\",\n",
    "    resenv.config.name,\n",
    "    0.2,\n",
    "    resenv.config.tf.name,\n",
    "    resenv.config.tf.variation,\n",
    ")\n",
    "fig = soln.tf.plot(\n",
    "    soln.freqs,\n",
    "    soln.components,\n",
    "    to_plot=[\"ExHy\", \"EyHx\"],\n",
    "    x_lim=[1, 5],\n",
    "    res_lim=[1, 4],\n",
    "    legend=\"128\",\n",
    "    symbol=\"circle\",\n",
    ")\n",
    "fig.update_layout(height=900)\n",
    "plotly.io.show(fig)\n"
   ]
  }
 ],
 "metadata": {
  "language_info": {
   "name": "python"
  },
  "orig_nbformat": 4
 },
 "nbformat": 4,
 "nbformat_minor": 2
}
