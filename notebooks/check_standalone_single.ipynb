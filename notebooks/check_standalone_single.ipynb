{
 "cells": [
  {
   "attachments": {},
   "cell_type": "markdown",
   "metadata": {},
   "source": [
    "Process a single recording. This involves:\n",
    "\n",
    "- Define a configuration\n",
    "- Read in the time data\n",
    "- Preprocess the time data\n",
    "- Decimate the time data\n",
    "- Window the decimated data\n",
    "- Calculate the spectra\n",
    "- Calculate spectral values at evaluation frequencies\n",
    "- Do the regression"
   ]
  },
  {
   "cell_type": "code",
   "execution_count": 28,
   "metadata": {},
   "outputs": [],
   "source": [
    "from pathlib import Path\n",
    "from resistics.config import Configuration\n",
    "from resistics.time import TimeReaderNumpy\n",
    "from resistics.gather import QuickGather\n",
    "from resistics.decimate import Decimator"
   ]
  },
  {
   "cell_type": "code",
   "execution_count": 29,
   "metadata": {},
   "outputs": [],
   "source": [
    "config = Configuration(name=\"testing\")"
   ]
  },
  {
   "cell_type": "code",
   "execution_count": 30,
   "metadata": {},
   "outputs": [
    {
     "name": "stderr",
     "output_type": "stream",
     "text": [
      "\u001b[32m2023-04-28 08:11:07.952\u001b[0m | \u001b[1mINFO    \u001b[0m | \u001b[36mresistics.time\u001b[0m:\u001b[36mrun\u001b[0m:\u001b[36m777\u001b[0m - \u001b[1mReading time series data from ../data/time/quick/kap123\u001b[0m\n",
      "\u001b[32m2023-04-28 08:11:07.954\u001b[0m | \u001b[34m\u001b[1mDEBUG   \u001b[0m | \u001b[36mresistics.time\u001b[0m:\u001b[36mrun\u001b[0m:\u001b[36m779\u001b[0m - \u001b[34m\u001b[1mReading time series metadata from ../data/time/quick/kap123\u001b[0m\n",
      "\u001b[32m2023-04-28 08:11:07.956\u001b[0m | \u001b[34m\u001b[1mDEBUG   \u001b[0m | \u001b[36mresistics.time\u001b[0m:\u001b[36mrun\u001b[0m:\u001b[36m787\u001b[0m - \u001b[34m\u001b[1mReading samples from 0 to 361511\u001b[0m\n",
      "\u001b[32m2023-04-28 08:11:07.958\u001b[0m | \u001b[1mINFO    \u001b[0m | \u001b[36mresistics.time\u001b[0m:\u001b[36mread_data\u001b[0m:\u001b[36m1133\u001b[0m - \u001b[1mData successfully read from ../data/time/quick/kap123\u001b[0m\n",
      "\u001b[32m2023-04-28 08:11:07.958\u001b[0m | \u001b[34m\u001b[1mDEBUG   \u001b[0m | \u001b[36mresistics.time\u001b[0m:\u001b[36m__init__\u001b[0m:\u001b[36m479\u001b[0m - \u001b[34m\u001b[1mCreating TimeData with data type float32\u001b[0m\n",
      "\u001b[32m2023-04-28 08:11:07.959\u001b[0m | \u001b[34m\u001b[1mDEBUG   \u001b[0m | \u001b[36mresistics.time\u001b[0m:\u001b[36mrun\u001b[0m:\u001b[36m790\u001b[0m - \u001b[34m\u001b[1mApplying scaling to time series data\u001b[0m\n"
     ]
    }
   ],
   "source": [
    "dir_path = Path(\"..\", \"data\", \"time\", \"quick\", \"kap123\")\n",
    "time_data = TimeReaderNumpy().run(dir_path)\n",
    "ref_time = time_data.metadata.first_time"
   ]
  },
  {
   "cell_type": "code",
   "execution_count": 31,
   "metadata": {},
   "outputs": [
    {
     "name": "stderr",
     "output_type": "stream",
     "text": [
      "\u001b[32m2023-04-28 08:11:07.985\u001b[0m | \u001b[1mINFO    \u001b[0m | \u001b[36mresistics.time\u001b[0m:\u001b[36mrun\u001b[0m:\u001b[36m1532\u001b[0m - \u001b[1mRemoving nan values from channels ['Hx', 'Hy', 'Hz', 'Ex', 'Ey']\u001b[0m\n",
      "\u001b[32m2023-04-28 08:11:08.000\u001b[0m | \u001b[34m\u001b[1mDEBUG   \u001b[0m | \u001b[36mresistics.time\u001b[0m:\u001b[36m__init__\u001b[0m:\u001b[36m479\u001b[0m - \u001b[34m\u001b[1mCreating TimeData with data type float32\u001b[0m\n",
      "\u001b[32m2023-04-28 08:11:08.001\u001b[0m | \u001b[1mINFO    \u001b[0m | \u001b[36mresistics.time\u001b[0m:\u001b[36mrun\u001b[0m:\u001b[36m1607\u001b[0m - \u001b[1mRemoving mean from channels ['Hx', 'Hy', 'Hz', 'Ex', 'Ey']\u001b[0m\n",
      "\u001b[32m2023-04-28 08:11:08.009\u001b[0m | \u001b[34m\u001b[1mDEBUG   \u001b[0m | \u001b[36mresistics.time\u001b[0m:\u001b[36m__init__\u001b[0m:\u001b[36m479\u001b[0m - \u001b[34m\u001b[1mCreating TimeData with data type float32\u001b[0m\n"
     ]
    }
   ],
   "source": [
    "for processor in config.time_processors:\n",
    "    time_data = processor.run(time_data)"
   ]
  },
  {
   "cell_type": "code",
   "execution_count": 32,
   "metadata": {},
   "outputs": [
    {
     "name": "stderr",
     "output_type": "stream",
     "text": [
      "\u001b[32m2023-04-28 08:11:08.066\u001b[0m | \u001b[1mINFO    \u001b[0m | \u001b[36mresistics.decimate\u001b[0m:\u001b[36mrun\u001b[0m:\u001b[36m759\u001b[0m - \u001b[1mDecimating level 0 with factor 1\u001b[0m\n",
      "\u001b[32m2023-04-28 08:11:08.067\u001b[0m | \u001b[1mINFO    \u001b[0m | \u001b[36mresistics.decimate\u001b[0m:\u001b[36mrun\u001b[0m:\u001b[36m759\u001b[0m - \u001b[1mDecimating level 1 with factor 4\u001b[0m\n",
      "\u001b[32m2023-04-28 08:11:08.068\u001b[0m | \u001b[1mINFO    \u001b[0m | \u001b[36mresistics.time\u001b[0m:\u001b[36mrun\u001b[0m:\u001b[36m2146\u001b[0m - \u001b[1mResampling data from 0.2 Hz to 0.05 Hz\u001b[0m\n",
      "\u001b[32m2023-04-28 08:11:08.099\u001b[0m | \u001b[34m\u001b[1mDEBUG   \u001b[0m | \u001b[36mresistics.time\u001b[0m:\u001b[36m__init__\u001b[0m:\u001b[36m479\u001b[0m - \u001b[34m\u001b[1mCreating TimeData with data type float32\u001b[0m\n",
      "\u001b[32m2023-04-28 08:11:08.100\u001b[0m | \u001b[1mINFO    \u001b[0m | \u001b[36mresistics.decimate\u001b[0m:\u001b[36mrun\u001b[0m:\u001b[36m759\u001b[0m - \u001b[1mDecimating level 2 with factor 8\u001b[0m\n",
      "\u001b[32m2023-04-28 08:11:08.101\u001b[0m | \u001b[1mINFO    \u001b[0m | \u001b[36mresistics.time\u001b[0m:\u001b[36mrun\u001b[0m:\u001b[36m2146\u001b[0m - \u001b[1mResampling data from 0.05 Hz to 0.00625 Hz\u001b[0m\n",
      "\u001b[32m2023-04-28 08:11:08.107\u001b[0m | \u001b[34m\u001b[1mDEBUG   \u001b[0m | \u001b[36mresistics.time\u001b[0m:\u001b[36m__init__\u001b[0m:\u001b[36m479\u001b[0m - \u001b[34m\u001b[1mCreating TimeData with data type float32\u001b[0m\n",
      "\u001b[32m2023-04-28 08:11:08.108\u001b[0m | \u001b[1mINFO    \u001b[0m | \u001b[36mresistics.decimate\u001b[0m:\u001b[36mrun\u001b[0m:\u001b[36m759\u001b[0m - \u001b[1mDecimating level 3 with factor 4\u001b[0m\n",
      "\u001b[32m2023-04-28 08:11:08.108\u001b[0m | \u001b[1mINFO    \u001b[0m | \u001b[36mresistics.time\u001b[0m:\u001b[36mrun\u001b[0m:\u001b[36m2146\u001b[0m - \u001b[1mResampling data from 0.00625 Hz to 0.0015625 Hz\u001b[0m\n",
      "\u001b[32m2023-04-28 08:11:08.110\u001b[0m | \u001b[34m\u001b[1mDEBUG   \u001b[0m | \u001b[36mresistics.time\u001b[0m:\u001b[36m__init__\u001b[0m:\u001b[36m479\u001b[0m - \u001b[34m\u001b[1mCreating TimeData with data type float32\u001b[0m\n",
      "\u001b[32m2023-04-28 08:11:08.111\u001b[0m | \u001b[1mINFO    \u001b[0m | \u001b[36mresistics.decimate\u001b[0m:\u001b[36mrun\u001b[0m:\u001b[36m759\u001b[0m - \u001b[1mDecimating level 4 with factor 8\u001b[0m\n",
      "\u001b[32m2023-04-28 08:11:08.112\u001b[0m | \u001b[1mINFO    \u001b[0m | \u001b[36mresistics.time\u001b[0m:\u001b[36mrun\u001b[0m:\u001b[36m2146\u001b[0m - \u001b[1mResampling data from 0.0015625 Hz to 0.0001953125 Hz\u001b[0m\n",
      "\u001b[32m2023-04-28 08:11:08.114\u001b[0m | \u001b[34m\u001b[1mDEBUG   \u001b[0m | \u001b[36mresistics.time\u001b[0m:\u001b[36m__init__\u001b[0m:\u001b[36m479\u001b[0m - \u001b[34m\u001b[1mCreating TimeData with data type float32\u001b[0m\n",
      "\u001b[32m2023-04-28 08:11:08.115\u001b[0m | \u001b[1mINFO    \u001b[0m | \u001b[36mresistics.decimate\u001b[0m:\u001b[36mrun\u001b[0m:\u001b[36m759\u001b[0m - \u001b[1mDecimating level 5 with factor 4\u001b[0m\n",
      "\u001b[32m2023-04-28 08:11:08.115\u001b[0m | \u001b[1mINFO    \u001b[0m | \u001b[36mresistics.time\u001b[0m:\u001b[36mrun\u001b[0m:\u001b[36m2146\u001b[0m - \u001b[1mResampling data from 0.0001953125 Hz to 4.8828125e-05 Hz\u001b[0m\n",
      "\u001b[32m2023-04-28 08:11:08.116\u001b[0m | \u001b[34m\u001b[1mDEBUG   \u001b[0m | \u001b[36mresistics.time\u001b[0m:\u001b[36m__init__\u001b[0m:\u001b[36m479\u001b[0m - \u001b[34m\u001b[1mCreating TimeData with data type float32\u001b[0m\n",
      "\u001b[32m2023-04-28 08:11:08.117\u001b[0m | \u001b[33m\u001b[1mWARNING \u001b[0m | \u001b[36mresistics.decimate\u001b[0m:\u001b[36mrun\u001b[0m:\u001b[36m762\u001b[0m - \u001b[33m\u001b[1mn_samples < min allowed 256\u001b[0m\n",
      "\u001b[32m2023-04-28 08:11:08.117\u001b[0m | \u001b[34m\u001b[1mDEBUG   \u001b[0m | \u001b[36mresistics.decimate\u001b[0m:\u001b[36m__init__\u001b[0m:\u001b[36m597\u001b[0m - \u001b[34m\u001b[1mCreating DecimatedData with data type float32\u001b[0m\n"
     ]
    }
   ],
   "source": [
    "dec_params = config.dec_setup.run(time_data.metadata.fs)\n",
    "dec_data = config.decimator.run(dec_params, time_data)"
   ]
  },
  {
   "cell_type": "code",
   "execution_count": 33,
   "metadata": {},
   "outputs": [
    {
     "name": "stderr",
     "output_type": "stream",
     "text": [
      "\u001b[32m2023-04-28 08:11:08.141\u001b[0m | \u001b[1mINFO    \u001b[0m | \u001b[36mresistics.window\u001b[0m:\u001b[36mrun\u001b[0m:\u001b[36m1330\u001b[0m - \u001b[1mWindowing decimation level 0\u001b[0m\n",
      "\u001b[32m2023-04-28 08:11:08.142\u001b[0m | \u001b[34m\u001b[1mDEBUG   \u001b[0m | \u001b[36mresistics.window\u001b[0m:\u001b[36mget_first_and_last_win\u001b[0m:\u001b[36m485\u001b[0m - \u001b[34m\u001b[1mAdjusting last window attempt 1\u001b[0m\n",
      "\u001b[32m2023-04-28 08:11:08.145\u001b[0m | \u001b[1mINFO    \u001b[0m | \u001b[36mresistics.window\u001b[0m:\u001b[36mrun\u001b[0m:\u001b[36m1336\u001b[0m - \u001b[1m3765 windows, size 128, overlap 32\u001b[0m\n",
      "\u001b[32m2023-04-28 08:11:08.146\u001b[0m | \u001b[1mINFO    \u001b[0m | \u001b[36mresistics.window\u001b[0m:\u001b[36mrun\u001b[0m:\u001b[36m1330\u001b[0m - \u001b[1mWindowing decimation level 1\u001b[0m\n",
      "\u001b[32m2023-04-28 08:11:08.147\u001b[0m | \u001b[34m\u001b[1mDEBUG   \u001b[0m | \u001b[36mresistics.window\u001b[0m:\u001b[36mget_first_and_last_win\u001b[0m:\u001b[36m485\u001b[0m - \u001b[34m\u001b[1mAdjusting last window attempt 1\u001b[0m\n",
      "\u001b[32m2023-04-28 08:11:08.150\u001b[0m | \u001b[1mINFO    \u001b[0m | \u001b[36mresistics.window\u001b[0m:\u001b[36mrun\u001b[0m:\u001b[36m1336\u001b[0m - \u001b[1m941 windows, size 128, overlap 32\u001b[0m\n",
      "\u001b[32m2023-04-28 08:11:08.151\u001b[0m | \u001b[1mINFO    \u001b[0m | \u001b[36mresistics.window\u001b[0m:\u001b[36mrun\u001b[0m:\u001b[36m1330\u001b[0m - \u001b[1mWindowing decimation level 2\u001b[0m\n",
      "\u001b[32m2023-04-28 08:11:08.151\u001b[0m | \u001b[34m\u001b[1mDEBUG   \u001b[0m | \u001b[36mresistics.window\u001b[0m:\u001b[36mget_first_and_last_win\u001b[0m:\u001b[36m485\u001b[0m - \u001b[34m\u001b[1mAdjusting last window attempt 1\u001b[0m\n",
      "\u001b[32m2023-04-28 08:11:08.153\u001b[0m | \u001b[1mINFO    \u001b[0m | \u001b[36mresistics.window\u001b[0m:\u001b[36mrun\u001b[0m:\u001b[36m1336\u001b[0m - \u001b[1m117 windows, size 128, overlap 32\u001b[0m\n",
      "\u001b[32m2023-04-28 08:11:08.154\u001b[0m | \u001b[1mINFO    \u001b[0m | \u001b[36mresistics.window\u001b[0m:\u001b[36mrun\u001b[0m:\u001b[36m1330\u001b[0m - \u001b[1mWindowing decimation level 3\u001b[0m\n",
      "\u001b[32m2023-04-28 08:11:08.155\u001b[0m | \u001b[34m\u001b[1mDEBUG   \u001b[0m | \u001b[36mresistics.window\u001b[0m:\u001b[36mget_first_and_last_win\u001b[0m:\u001b[36m485\u001b[0m - \u001b[34m\u001b[1mAdjusting last window attempt 1\u001b[0m\n",
      "\u001b[32m2023-04-28 08:11:08.157\u001b[0m | \u001b[1mINFO    \u001b[0m | \u001b[36mresistics.window\u001b[0m:\u001b[36mrun\u001b[0m:\u001b[36m1336\u001b[0m - \u001b[1m29 windows, size 128, overlap 32\u001b[0m\n",
      "\u001b[32m2023-04-28 08:11:08.158\u001b[0m | \u001b[1mINFO    \u001b[0m | \u001b[36mresistics.window\u001b[0m:\u001b[36mrun\u001b[0m:\u001b[36m1330\u001b[0m - \u001b[1mWindowing decimation level 4\u001b[0m\n",
      "\u001b[32m2023-04-28 08:11:08.159\u001b[0m | \u001b[34m\u001b[1mDEBUG   \u001b[0m | \u001b[36mresistics.window\u001b[0m:\u001b[36mget_first_and_last_win\u001b[0m:\u001b[36m485\u001b[0m - \u001b[34m\u001b[1mAdjusting last window attempt 1\u001b[0m\n",
      "\u001b[32m2023-04-28 08:11:08.160\u001b[0m | \u001b[1mINFO    \u001b[0m | \u001b[36mresistics.window\u001b[0m:\u001b[36mrun\u001b[0m:\u001b[36m1336\u001b[0m - \u001b[1m3 windows, size 128, overlap 32\u001b[0m\n",
      "\u001b[32m2023-04-28 08:11:08.161\u001b[0m | \u001b[34m\u001b[1mDEBUG   \u001b[0m | \u001b[36mresistics.window\u001b[0m:\u001b[36mrun\u001b[0m:\u001b[36m1341\u001b[0m - \u001b[34m\u001b[1mNumber windows 3 < min. 5\u001b[0m\n",
      "\u001b[32m2023-04-28 08:11:08.162\u001b[0m | \u001b[1mINFO    \u001b[0m | \u001b[36mresistics.window\u001b[0m:\u001b[36mrun\u001b[0m:\u001b[36m1369\u001b[0m - \u001b[1mWindowing completed\u001b[0m\n",
      "\u001b[32m2023-04-28 08:11:08.163\u001b[0m | \u001b[34m\u001b[1mDEBUG   \u001b[0m | \u001b[36mresistics.window\u001b[0m:\u001b[36m__init__\u001b[0m:\u001b[36m1094\u001b[0m - \u001b[34m\u001b[1mCreating WindowedData with data type float32\u001b[0m\n"
     ]
    }
   ],
   "source": [
    "win_params = config.win_setup.run(dec_data.metadata.n_levels, dec_data.metadata.fs)\n",
    "win_data = config.windower.run(ref_time, win_params, dec_data)"
   ]
  },
  {
   "cell_type": "code",
   "execution_count": 34,
   "metadata": {},
   "outputs": [
    {
     "name": "stderr",
     "output_type": "stream",
     "text": [
      "\u001b[32m2023-04-28 08:11:08.187\u001b[0m | \u001b[1mINFO    \u001b[0m | \u001b[36mresistics.spectra\u001b[0m:\u001b[36mrun\u001b[0m:\u001b[36m487\u001b[0m - \u001b[1mPerforming fourier transforms of windowed decimated data\u001b[0m\n",
      "\u001b[32m2023-04-28 08:11:08.188\u001b[0m | \u001b[1mINFO    \u001b[0m | \u001b[36mresistics.spectra\u001b[0m:\u001b[36mrun\u001b[0m:\u001b[36m489\u001b[0m - \u001b[1mTransforming level 0\u001b[0m\n",
      "\u001b[32m2023-04-28 08:11:08.189\u001b[0m | \u001b[34m\u001b[1mDEBUG   \u001b[0m | \u001b[36mresistics.spectra\u001b[0m:\u001b[36mrun\u001b[0m:\u001b[36m493\u001b[0m - \u001b[34m\u001b[1mPadding size 128 to next fast len 128\u001b[0m\n",
      "\u001b[32m2023-04-28 08:11:08.224\u001b[0m | \u001b[1mINFO    \u001b[0m | \u001b[36mresistics.spectra\u001b[0m:\u001b[36mrun\u001b[0m:\u001b[36m489\u001b[0m - \u001b[1mTransforming level 1\u001b[0m\n",
      "\u001b[32m2023-04-28 08:11:08.238\u001b[0m | \u001b[34m\u001b[1mDEBUG   \u001b[0m | \u001b[36mresistics.spectra\u001b[0m:\u001b[36mrun\u001b[0m:\u001b[36m493\u001b[0m - \u001b[34m\u001b[1mPadding size 128 to next fast len 128\u001b[0m\n",
      "\u001b[32m2023-04-28 08:11:08.246\u001b[0m | \u001b[1mINFO    \u001b[0m | \u001b[36mresistics.spectra\u001b[0m:\u001b[36mrun\u001b[0m:\u001b[36m489\u001b[0m - \u001b[1mTransforming level 2\u001b[0m\n",
      "\u001b[32m2023-04-28 08:11:08.247\u001b[0m | \u001b[34m\u001b[1mDEBUG   \u001b[0m | \u001b[36mresistics.spectra\u001b[0m:\u001b[36mrun\u001b[0m:\u001b[36m493\u001b[0m - \u001b[34m\u001b[1mPadding size 128 to next fast len 128\u001b[0m\n",
      "\u001b[32m2023-04-28 08:11:08.248\u001b[0m | \u001b[1mINFO    \u001b[0m | \u001b[36mresistics.spectra\u001b[0m:\u001b[36mrun\u001b[0m:\u001b[36m489\u001b[0m - \u001b[1mTransforming level 3\u001b[0m\n",
      "\u001b[32m2023-04-28 08:11:08.249\u001b[0m | \u001b[34m\u001b[1mDEBUG   \u001b[0m | \u001b[36mresistics.spectra\u001b[0m:\u001b[36mrun\u001b[0m:\u001b[36m493\u001b[0m - \u001b[34m\u001b[1mPadding size 128 to next fast len 128\u001b[0m\n",
      "\u001b[32m2023-04-28 08:11:08.257\u001b[0m | \u001b[1mINFO    \u001b[0m | \u001b[36mresistics.spectra\u001b[0m:\u001b[36mrun\u001b[0m:\u001b[36m504\u001b[0m - \u001b[1mFourier transforms completed\u001b[0m\n",
      "\u001b[32m2023-04-28 08:11:08.257\u001b[0m | \u001b[34m\u001b[1mDEBUG   \u001b[0m | \u001b[36mresistics.spectra\u001b[0m:\u001b[36m__init__\u001b[0m:\u001b[36m97\u001b[0m - \u001b[34m\u001b[1mCreating SpectraData with data type complex64\u001b[0m\n",
      "\u001b[32m2023-04-28 08:11:08.258\u001b[0m | \u001b[1mINFO    \u001b[0m | \u001b[36mresistics.spectra\u001b[0m:\u001b[36mrun\u001b[0m:\u001b[36m682\u001b[0m - \u001b[1mReducing freqs to evaluation freqs for level 0\u001b[0m\n",
      "\u001b[32m2023-04-28 08:11:08.261\u001b[0m | \u001b[1mINFO    \u001b[0m | \u001b[36mresistics.spectra\u001b[0m:\u001b[36mrun\u001b[0m:\u001b[36m682\u001b[0m - \u001b[1mReducing freqs to evaluation freqs for level 1\u001b[0m\n",
      "\u001b[32m2023-04-28 08:11:08.262\u001b[0m | \u001b[1mINFO    \u001b[0m | \u001b[36mresistics.spectra\u001b[0m:\u001b[36mrun\u001b[0m:\u001b[36m682\u001b[0m - \u001b[1mReducing freqs to evaluation freqs for level 2\u001b[0m\n",
      "\u001b[32m2023-04-28 08:11:08.266\u001b[0m | \u001b[1mINFO    \u001b[0m | \u001b[36mresistics.spectra\u001b[0m:\u001b[36mrun\u001b[0m:\u001b[36m682\u001b[0m - \u001b[1mReducing freqs to evaluation freqs for level 3\u001b[0m\n",
      "\u001b[32m2023-04-28 08:11:08.267\u001b[0m | \u001b[1mINFO    \u001b[0m | \u001b[36mresistics.spectra\u001b[0m:\u001b[36mrun\u001b[0m:\u001b[36m695\u001b[0m - \u001b[1mFourier coefficients calculated at evaluation frequencies\u001b[0m\n",
      "\u001b[32m2023-04-28 08:11:08.268\u001b[0m | \u001b[34m\u001b[1mDEBUG   \u001b[0m | \u001b[36mresistics.spectra\u001b[0m:\u001b[36m__init__\u001b[0m:\u001b[36m97\u001b[0m - \u001b[34m\u001b[1mCreating SpectraData with data type complex64\u001b[0m\n"
     ]
    }
   ],
   "source": [
    "spec_data = config.fourier.run(win_data)\n",
    "eval_data = config.evals.run(dec_params, spec_data)"
   ]
  },
  {
   "cell_type": "code",
   "execution_count": 35,
   "metadata": {},
   "outputs": [
    {
     "name": "stderr",
     "output_type": "stream",
     "text": [
      "\u001b[32m2023-04-28 08:11:08.294\u001b[0m | \u001b[1mINFO    \u001b[0m | \u001b[36mresistics.gather\u001b[0m:\u001b[36mrun\u001b[0m:\u001b[36m847\u001b[0m - \u001b[1mQuick gathering data for regression prepartion\u001b[0m\n",
      "\u001b[32m2023-04-28 08:11:08.297\u001b[0m | \u001b[1mINFO    \u001b[0m | \u001b[36mresistics.regression\u001b[0m:\u001b[36mrun\u001b[0m:\u001b[36m388\u001b[0m - \u001b[1mPreparing regression data\u001b[0m\n",
      "\u001b[32m2023-04-28 08:11:08.297\u001b[0m | \u001b[1mINFO    \u001b[0m | \u001b[36mresistics.regression\u001b[0m:\u001b[36mrun\u001b[0m:\u001b[36m389\u001b[0m - \u001b[1mOut chans site: kap123\u001b[0m\n",
      "\u001b[32m2023-04-28 08:11:08.298\u001b[0m | \u001b[1mINFO    \u001b[0m | \u001b[36mresistics.regression\u001b[0m:\u001b[36mrun\u001b[0m:\u001b[36m390\u001b[0m - \u001b[1mOut chans: ['Ex', 'Ey']\u001b[0m\n",
      "\u001b[32m2023-04-28 08:11:08.298\u001b[0m | \u001b[1mINFO    \u001b[0m | \u001b[36mresistics.regression\u001b[0m:\u001b[36mrun\u001b[0m:\u001b[36m391\u001b[0m - \u001b[1mIn chans site: kap123\u001b[0m\n",
      "\u001b[32m2023-04-28 08:11:08.299\u001b[0m | \u001b[1mINFO    \u001b[0m | \u001b[36mresistics.regression\u001b[0m:\u001b[36mrun\u001b[0m:\u001b[36m392\u001b[0m - \u001b[1mIn chans: ['Hx', 'Hy']\u001b[0m\n",
      "\u001b[32m2023-04-28 08:11:08.299\u001b[0m | \u001b[1mINFO    \u001b[0m | \u001b[36mresistics.regression\u001b[0m:\u001b[36mrun\u001b[0m:\u001b[36m393\u001b[0m - \u001b[1mCross chans site: kap123\u001b[0m\n",
      "\u001b[32m2023-04-28 08:11:08.299\u001b[0m | \u001b[1mINFO    \u001b[0m | \u001b[36mresistics.regression\u001b[0m:\u001b[36mrun\u001b[0m:\u001b[36m394\u001b[0m - \u001b[1mCross chans: ['Hx', 'Hy']\u001b[0m\n",
      "\u001b[32m2023-04-28 08:11:08.299\u001b[0m | \u001b[1mINFO    \u001b[0m | \u001b[36mresistics.regression\u001b[0m:\u001b[36m_get_regression_data\u001b[0m:\u001b[36m419\u001b[0m - \u001b[1mPreparing regression data for 20 frequencies\u001b[0m\n",
      "100%|██████████| 20/20 [00:00<00:00, 181.53it/s]\n"
     ]
    }
   ],
   "source": [
    "gathered_data = QuickGather().run(dir_path, dec_params, config.tf, eval_data)\n",
    "reg_data = config.regression_preparer.run(config.tf, gathered_data)"
   ]
  },
  {
   "cell_type": "code",
   "execution_count": 36,
   "metadata": {},
   "outputs": [
    {
     "name": "stderr",
     "output_type": "stream",
     "text": [
      "\u001b[32m2023-04-28 08:11:08.434\u001b[0m | \u001b[1mINFO    \u001b[0m | \u001b[36mresistics.regression\u001b[0m:\u001b[36m_solve\u001b[0m:\u001b[36m782\u001b[0m - \u001b[1mSolving for 20 evaluation frequencies\u001b[0m\n",
      "100%|██████████| 20/20 [00:04<00:00,  4.49it/s]\n"
     ]
    },
    {
     "data": {
      "application/vnd.plotly.v1+json": {
       "config": {
        "plotlyServerURL": "https://plot.ly"
       },
       "data": [
        {
         "legendgroup": "128 - ExHy",
         "line": {
          "color": "red"
         },
         "marker": {
          "color": "red",
          "symbol": "circle"
         },
         "mode": "lines+markers",
         "name": "128 - ExHy",
         "type": "scatter",
         "x": [
          20,
          28.284271247461902,
          40,
          56.568542494923804,
          80,
          113.13708498984761,
          160,
          226.27416997969522,
          320,
          452.54833995939043,
          640,
          905.0966799187809,
          1280,
          1810.1933598375617,
          2560,
          3620.3867196751235,
          5120,
          7240.773439350247,
          10240,
          14481.546878700494
         ],
         "xaxis": "x",
         "y": [
          179.2042429719653,
          380.1226942711063,
          457.6575229878166,
          525.245568558116,
          537.2177604198141,
          569.016549659512,
          500.6794932564675,
          434.12597701229265,
          417.746141951959,
          382.4120516961956,
          306.6482882775424,
          267.69822756351465,
          221.2275108304704,
          198.28684146912286,
          166.69628609038153,
          169.94910304643165,
          161.32344152322955,
          114.66246386150723,
          47.792740242591066,
          64.92627214696147
         ],
         "yaxis": "y"
        },
        {
         "legendgroup": "128 - ExHy",
         "line": {
          "color": "red"
         },
         "marker": {
          "color": "red",
          "symbol": "circle"
         },
         "mode": "lines+markers",
         "name": "128 - ExHy",
         "showlegend": false,
         "type": "scatter",
         "x": [
          20,
          28.284271247461902,
          40,
          56.568542494923804,
          80,
          113.13708498984761,
          160,
          226.27416997969522,
          320,
          452.54833995939043,
          640,
          905.0966799187809,
          1280,
          1810.1933598375617,
          2560,
          3620.3867196751235,
          5120,
          7240.773439350247,
          10240,
          14481.546878700494
         ],
         "xaxis": "x2",
         "y": [
          -146.86849921429172,
          -144.20922397764514,
          -139.9806759692415,
          -136.98878160282584,
          -134.33922383724246,
          -131.39559753772303,
          -128.6751872936514,
          -124.23260236502972,
          -122.62840186645923,
          -121.15789037674375,
          -117.5273386596304,
          -116.97195376219452,
          -115.61695904267573,
          -116.73875591578542,
          -113.08305961551268,
          -111.54960582756219,
          -107.48280077485225,
          -104.08684687318438,
          -83.57003341982077,
          -84.31710741299688
         ],
         "yaxis": "y2"
        },
        {
         "legendgroup": "128 - EyHx",
         "line": {
          "color": "blue"
         },
         "marker": {
          "color": "blue",
          "symbol": "circle"
         },
         "mode": "lines+markers",
         "name": "128 - EyHx",
         "type": "scatter",
         "x": [
          20,
          28.284271247461902,
          40,
          56.568542494923804,
          80,
          113.13708498984761,
          160,
          226.27416997969522,
          320,
          452.54833995939043,
          640,
          905.0966799187809,
          1280,
          1810.1933598375617,
          2560,
          3620.3867196751235,
          5120,
          7240.773439350247,
          10240,
          14481.546878700494
         ],
         "xaxis": "x",
         "y": [
          405.0189481972673,
          382.66955843642694,
          305.36318219162365,
          203.04300997618407,
          157.75893504071018,
          124.25253178465512,
          85.29838384266647,
          59.77597708003645,
          52.35976257044865,
          42.40226904902411,
          32.81374525429417,
          22.12243568062549,
          24.364554394478763,
          14.220444794479853,
          10.556795042909751,
          3.6059090422587645,
          10.185777643000462,
          2.0883309948857436,
          5.985381286502794,
          5.31605018513657
         ],
         "yaxis": "y"
        },
        {
         "legendgroup": "128 - EyHx",
         "line": {
          "color": "blue"
         },
         "marker": {
          "color": "blue",
          "symbol": "circle"
         },
         "mode": "lines+markers",
         "name": "128 - EyHx",
         "showlegend": false,
         "type": "scatter",
         "x": [
          20,
          28.284271247461902,
          40,
          56.568542494923804,
          80,
          113.13708498984761,
          160,
          226.27416997969522,
          320,
          452.54833995939043,
          640,
          905.0966799187809,
          1280,
          1810.1933598375617,
          2560,
          3620.3867196751235,
          5120,
          7240.773439350247,
          10240,
          14481.546878700494
         ],
         "xaxis": "x2",
         "y": [
          -119.8878774865439,
          -107.72756659328677,
          -102.2984188254164,
          -99.91156149426632,
          -100.1621365646004,
          -99.32119818618412,
          -98.97974319402103,
          -98.6416937571589,
          -103.36434278813067,
          -101.32067007964453,
          -107.10507526183027,
          -105.29885065154285,
          -109.15935215372583,
          -106.49849480893897,
          -101.53159399991587,
          -111.39077529444846,
          -111.79079282597864,
          -105.35905338308423,
          -111.02843711010576,
          -88.39508720214747
         ],
         "yaxis": "y2"
        }
       ],
       "layout": {
        "annotations": [
         {
          "font": {
           "size": 16
          },
          "showarrow": false,
          "text": "Apparent resistivity",
          "x": 0.5,
          "xanchor": "center",
          "xref": "paper",
          "y": 1,
          "yanchor": "bottom",
          "yref": "paper"
         },
         {
          "font": {
           "size": 16
          },
          "showarrow": false,
          "text": "Phase",
          "x": 0.5,
          "xanchor": "center",
          "xref": "paper",
          "y": 0.46,
          "yanchor": "bottom",
          "yref": "paper"
         }
        ],
        "height": 900,
        "margin": {
         "b": 0,
         "l": 0,
         "r": 0,
         "t": 50
        },
        "template": {
         "data": {
          "bar": [
           {
            "error_x": {
             "color": "rgb(36,36,36)"
            },
            "error_y": {
             "color": "rgb(36,36,36)"
            },
            "marker": {
             "line": {
              "color": "rgb(234,234,242)",
              "width": 0.5
             },
             "pattern": {
              "fillmode": "overlay",
              "size": 10,
              "solidity": 0.2
             }
            },
            "type": "bar"
           }
          ],
          "barpolar": [
           {
            "marker": {
             "line": {
              "color": "rgb(234,234,242)",
              "width": 0.5
             },
             "pattern": {
              "fillmode": "overlay",
              "size": 10,
              "solidity": 0.2
             }
            },
            "type": "barpolar"
           }
          ],
          "carpet": [
           {
            "aaxis": {
             "endlinecolor": "rgb(36,36,36)",
             "gridcolor": "white",
             "linecolor": "white",
             "minorgridcolor": "white",
             "startlinecolor": "rgb(36,36,36)"
            },
            "baxis": {
             "endlinecolor": "rgb(36,36,36)",
             "gridcolor": "white",
             "linecolor": "white",
             "minorgridcolor": "white",
             "startlinecolor": "rgb(36,36,36)"
            },
            "type": "carpet"
           }
          ],
          "choropleth": [
           {
            "colorbar": {
             "outlinewidth": 0,
             "tickcolor": "rgb(36,36,36)",
             "ticklen": 8,
             "ticks": "outside",
             "tickwidth": 2
            },
            "type": "choropleth"
           }
          ],
          "contour": [
           {
            "colorbar": {
             "outlinewidth": 0,
             "tickcolor": "rgb(36,36,36)",
             "ticklen": 8,
             "ticks": "outside",
             "tickwidth": 2
            },
            "colorscale": [
             [
              0,
              "rgb(2,4,25)"
             ],
             [
              0.06274509803921569,
              "rgb(24,15,41)"
             ],
             [
              0.12549019607843137,
              "rgb(47,23,57)"
             ],
             [
              0.18823529411764706,
              "rgb(71,28,72)"
             ],
             [
              0.25098039215686274,
              "rgb(97,30,82)"
             ],
             [
              0.3137254901960784,
              "rgb(123,30,89)"
             ],
             [
              0.3764705882352941,
              "rgb(150,27,91)"
             ],
             [
              0.4392156862745098,
              "rgb(177,22,88)"
             ],
             [
              0.5019607843137255,
              "rgb(203,26,79)"
             ],
             [
              0.5647058823529412,
              "rgb(223,47,67)"
             ],
             [
              0.6274509803921569,
              "rgb(236,76,61)"
             ],
             [
              0.6901960784313725,
              "rgb(242,107,73)"
             ],
             [
              0.7529411764705882,
              "rgb(244,135,95)"
             ],
             [
              0.8156862745098039,
              "rgb(245,162,122)"
             ],
             [
              0.8784313725490196,
              "rgb(246,188,153)"
             ],
             [
              0.9411764705882353,
              "rgb(247,212,187)"
             ],
             [
              1,
              "rgb(250,234,220)"
             ]
            ],
            "type": "contour"
           }
          ],
          "contourcarpet": [
           {
            "colorbar": {
             "outlinewidth": 0,
             "tickcolor": "rgb(36,36,36)",
             "ticklen": 8,
             "ticks": "outside",
             "tickwidth": 2
            },
            "type": "contourcarpet"
           }
          ],
          "heatmap": [
           {
            "colorbar": {
             "outlinewidth": 0,
             "tickcolor": "rgb(36,36,36)",
             "ticklen": 8,
             "ticks": "outside",
             "tickwidth": 2
            },
            "colorscale": [
             [
              0,
              "rgb(2,4,25)"
             ],
             [
              0.06274509803921569,
              "rgb(24,15,41)"
             ],
             [
              0.12549019607843137,
              "rgb(47,23,57)"
             ],
             [
              0.18823529411764706,
              "rgb(71,28,72)"
             ],
             [
              0.25098039215686274,
              "rgb(97,30,82)"
             ],
             [
              0.3137254901960784,
              "rgb(123,30,89)"
             ],
             [
              0.3764705882352941,
              "rgb(150,27,91)"
             ],
             [
              0.4392156862745098,
              "rgb(177,22,88)"
             ],
             [
              0.5019607843137255,
              "rgb(203,26,79)"
             ],
             [
              0.5647058823529412,
              "rgb(223,47,67)"
             ],
             [
              0.6274509803921569,
              "rgb(236,76,61)"
             ],
             [
              0.6901960784313725,
              "rgb(242,107,73)"
             ],
             [
              0.7529411764705882,
              "rgb(244,135,95)"
             ],
             [
              0.8156862745098039,
              "rgb(245,162,122)"
             ],
             [
              0.8784313725490196,
              "rgb(246,188,153)"
             ],
             [
              0.9411764705882353,
              "rgb(247,212,187)"
             ],
             [
              1,
              "rgb(250,234,220)"
             ]
            ],
            "type": "heatmap"
           }
          ],
          "heatmapgl": [
           {
            "colorbar": {
             "outlinewidth": 0,
             "tickcolor": "rgb(36,36,36)",
             "ticklen": 8,
             "ticks": "outside",
             "tickwidth": 2
            },
            "colorscale": [
             [
              0,
              "rgb(2,4,25)"
             ],
             [
              0.06274509803921569,
              "rgb(24,15,41)"
             ],
             [
              0.12549019607843137,
              "rgb(47,23,57)"
             ],
             [
              0.18823529411764706,
              "rgb(71,28,72)"
             ],
             [
              0.25098039215686274,
              "rgb(97,30,82)"
             ],
             [
              0.3137254901960784,
              "rgb(123,30,89)"
             ],
             [
              0.3764705882352941,
              "rgb(150,27,91)"
             ],
             [
              0.4392156862745098,
              "rgb(177,22,88)"
             ],
             [
              0.5019607843137255,
              "rgb(203,26,79)"
             ],
             [
              0.5647058823529412,
              "rgb(223,47,67)"
             ],
             [
              0.6274509803921569,
              "rgb(236,76,61)"
             ],
             [
              0.6901960784313725,
              "rgb(242,107,73)"
             ],
             [
              0.7529411764705882,
              "rgb(244,135,95)"
             ],
             [
              0.8156862745098039,
              "rgb(245,162,122)"
             ],
             [
              0.8784313725490196,
              "rgb(246,188,153)"
             ],
             [
              0.9411764705882353,
              "rgb(247,212,187)"
             ],
             [
              1,
              "rgb(250,234,220)"
             ]
            ],
            "type": "heatmapgl"
           }
          ],
          "histogram": [
           {
            "marker": {
             "pattern": {
              "fillmode": "overlay",
              "size": 10,
              "solidity": 0.2
             }
            },
            "type": "histogram"
           }
          ],
          "histogram2d": [
           {
            "colorbar": {
             "outlinewidth": 0,
             "tickcolor": "rgb(36,36,36)",
             "ticklen": 8,
             "ticks": "outside",
             "tickwidth": 2
            },
            "colorscale": [
             [
              0,
              "rgb(2,4,25)"
             ],
             [
              0.06274509803921569,
              "rgb(24,15,41)"
             ],
             [
              0.12549019607843137,
              "rgb(47,23,57)"
             ],
             [
              0.18823529411764706,
              "rgb(71,28,72)"
             ],
             [
              0.25098039215686274,
              "rgb(97,30,82)"
             ],
             [
              0.3137254901960784,
              "rgb(123,30,89)"
             ],
             [
              0.3764705882352941,
              "rgb(150,27,91)"
             ],
             [
              0.4392156862745098,
              "rgb(177,22,88)"
             ],
             [
              0.5019607843137255,
              "rgb(203,26,79)"
             ],
             [
              0.5647058823529412,
              "rgb(223,47,67)"
             ],
             [
              0.6274509803921569,
              "rgb(236,76,61)"
             ],
             [
              0.6901960784313725,
              "rgb(242,107,73)"
             ],
             [
              0.7529411764705882,
              "rgb(244,135,95)"
             ],
             [
              0.8156862745098039,
              "rgb(245,162,122)"
             ],
             [
              0.8784313725490196,
              "rgb(246,188,153)"
             ],
             [
              0.9411764705882353,
              "rgb(247,212,187)"
             ],
             [
              1,
              "rgb(250,234,220)"
             ]
            ],
            "type": "histogram2d"
           }
          ],
          "histogram2dcontour": [
           {
            "colorbar": {
             "outlinewidth": 0,
             "tickcolor": "rgb(36,36,36)",
             "ticklen": 8,
             "ticks": "outside",
             "tickwidth": 2
            },
            "colorscale": [
             [
              0,
              "rgb(2,4,25)"
             ],
             [
              0.06274509803921569,
              "rgb(24,15,41)"
             ],
             [
              0.12549019607843137,
              "rgb(47,23,57)"
             ],
             [
              0.18823529411764706,
              "rgb(71,28,72)"
             ],
             [
              0.25098039215686274,
              "rgb(97,30,82)"
             ],
             [
              0.3137254901960784,
              "rgb(123,30,89)"
             ],
             [
              0.3764705882352941,
              "rgb(150,27,91)"
             ],
             [
              0.4392156862745098,
              "rgb(177,22,88)"
             ],
             [
              0.5019607843137255,
              "rgb(203,26,79)"
             ],
             [
              0.5647058823529412,
              "rgb(223,47,67)"
             ],
             [
              0.6274509803921569,
              "rgb(236,76,61)"
             ],
             [
              0.6901960784313725,
              "rgb(242,107,73)"
             ],
             [
              0.7529411764705882,
              "rgb(244,135,95)"
             ],
             [
              0.8156862745098039,
              "rgb(245,162,122)"
             ],
             [
              0.8784313725490196,
              "rgb(246,188,153)"
             ],
             [
              0.9411764705882353,
              "rgb(247,212,187)"
             ],
             [
              1,
              "rgb(250,234,220)"
             ]
            ],
            "type": "histogram2dcontour"
           }
          ],
          "mesh3d": [
           {
            "colorbar": {
             "outlinewidth": 0,
             "tickcolor": "rgb(36,36,36)",
             "ticklen": 8,
             "ticks": "outside",
             "tickwidth": 2
            },
            "type": "mesh3d"
           }
          ],
          "parcoords": [
           {
            "line": {
             "colorbar": {
              "outlinewidth": 0,
              "tickcolor": "rgb(36,36,36)",
              "ticklen": 8,
              "ticks": "outside",
              "tickwidth": 2
             }
            },
            "type": "parcoords"
           }
          ],
          "pie": [
           {
            "automargin": true,
            "type": "pie"
           }
          ],
          "scatter": [
           {
            "fillpattern": {
             "fillmode": "overlay",
             "size": 10,
             "solidity": 0.2
            },
            "type": "scatter"
           }
          ],
          "scatter3d": [
           {
            "line": {
             "colorbar": {
              "outlinewidth": 0,
              "tickcolor": "rgb(36,36,36)",
              "ticklen": 8,
              "ticks": "outside",
              "tickwidth": 2
             }
            },
            "marker": {
             "colorbar": {
              "outlinewidth": 0,
              "tickcolor": "rgb(36,36,36)",
              "ticklen": 8,
              "ticks": "outside",
              "tickwidth": 2
             }
            },
            "type": "scatter3d"
           }
          ],
          "scattercarpet": [
           {
            "marker": {
             "colorbar": {
              "outlinewidth": 0,
              "tickcolor": "rgb(36,36,36)",
              "ticklen": 8,
              "ticks": "outside",
              "tickwidth": 2
             }
            },
            "type": "scattercarpet"
           }
          ],
          "scattergeo": [
           {
            "marker": {
             "colorbar": {
              "outlinewidth": 0,
              "tickcolor": "rgb(36,36,36)",
              "ticklen": 8,
              "ticks": "outside",
              "tickwidth": 2
             }
            },
            "type": "scattergeo"
           }
          ],
          "scattergl": [
           {
            "marker": {
             "colorbar": {
              "outlinewidth": 0,
              "tickcolor": "rgb(36,36,36)",
              "ticklen": 8,
              "ticks": "outside",
              "tickwidth": 2
             }
            },
            "type": "scattergl"
           }
          ],
          "scattermapbox": [
           {
            "marker": {
             "colorbar": {
              "outlinewidth": 0,
              "tickcolor": "rgb(36,36,36)",
              "ticklen": 8,
              "ticks": "outside",
              "tickwidth": 2
             }
            },
            "type": "scattermapbox"
           }
          ],
          "scatterpolar": [
           {
            "marker": {
             "colorbar": {
              "outlinewidth": 0,
              "tickcolor": "rgb(36,36,36)",
              "ticklen": 8,
              "ticks": "outside",
              "tickwidth": 2
             }
            },
            "type": "scatterpolar"
           }
          ],
          "scatterpolargl": [
           {
            "marker": {
             "colorbar": {
              "outlinewidth": 0,
              "tickcolor": "rgb(36,36,36)",
              "ticklen": 8,
              "ticks": "outside",
              "tickwidth": 2
             }
            },
            "type": "scatterpolargl"
           }
          ],
          "scatterternary": [
           {
            "marker": {
             "colorbar": {
              "outlinewidth": 0,
              "tickcolor": "rgb(36,36,36)",
              "ticklen": 8,
              "ticks": "outside",
              "tickwidth": 2
             }
            },
            "type": "scatterternary"
           }
          ],
          "surface": [
           {
            "colorbar": {
             "outlinewidth": 0,
             "tickcolor": "rgb(36,36,36)",
             "ticklen": 8,
             "ticks": "outside",
             "tickwidth": 2
            },
            "colorscale": [
             [
              0,
              "rgb(2,4,25)"
             ],
             [
              0.06274509803921569,
              "rgb(24,15,41)"
             ],
             [
              0.12549019607843137,
              "rgb(47,23,57)"
             ],
             [
              0.18823529411764706,
              "rgb(71,28,72)"
             ],
             [
              0.25098039215686274,
              "rgb(97,30,82)"
             ],
             [
              0.3137254901960784,
              "rgb(123,30,89)"
             ],
             [
              0.3764705882352941,
              "rgb(150,27,91)"
             ],
             [
              0.4392156862745098,
              "rgb(177,22,88)"
             ],
             [
              0.5019607843137255,
              "rgb(203,26,79)"
             ],
             [
              0.5647058823529412,
              "rgb(223,47,67)"
             ],
             [
              0.6274509803921569,
              "rgb(236,76,61)"
             ],
             [
              0.6901960784313725,
              "rgb(242,107,73)"
             ],
             [
              0.7529411764705882,
              "rgb(244,135,95)"
             ],
             [
              0.8156862745098039,
              "rgb(245,162,122)"
             ],
             [
              0.8784313725490196,
              "rgb(246,188,153)"
             ],
             [
              0.9411764705882353,
              "rgb(247,212,187)"
             ],
             [
              1,
              "rgb(250,234,220)"
             ]
            ],
            "type": "surface"
           }
          ],
          "table": [
           {
            "cells": {
             "fill": {
              "color": "rgb(231,231,240)"
             },
             "line": {
              "color": "white"
             }
            },
            "header": {
             "fill": {
              "color": "rgb(183,183,191)"
             },
             "line": {
              "color": "white"
             }
            },
            "type": "table"
           }
          ]
         },
         "layout": {
          "annotationdefaults": {
           "arrowcolor": "rgb(67,103,167)"
          },
          "autotypenumbers": "strict",
          "coloraxis": {
           "colorbar": {
            "outlinewidth": 0,
            "tickcolor": "rgb(36,36,36)",
            "ticklen": 8,
            "ticks": "outside",
            "tickwidth": 2
           }
          },
          "colorscale": {
           "sequential": [
            [
             0,
             "rgb(2,4,25)"
            ],
            [
             0.06274509803921569,
             "rgb(24,15,41)"
            ],
            [
             0.12549019607843137,
             "rgb(47,23,57)"
            ],
            [
             0.18823529411764706,
             "rgb(71,28,72)"
            ],
            [
             0.25098039215686274,
             "rgb(97,30,82)"
            ],
            [
             0.3137254901960784,
             "rgb(123,30,89)"
            ],
            [
             0.3764705882352941,
             "rgb(150,27,91)"
            ],
            [
             0.4392156862745098,
             "rgb(177,22,88)"
            ],
            [
             0.5019607843137255,
             "rgb(203,26,79)"
            ],
            [
             0.5647058823529412,
             "rgb(223,47,67)"
            ],
            [
             0.6274509803921569,
             "rgb(236,76,61)"
            ],
            [
             0.6901960784313725,
             "rgb(242,107,73)"
            ],
            [
             0.7529411764705882,
             "rgb(244,135,95)"
            ],
            [
             0.8156862745098039,
             "rgb(245,162,122)"
            ],
            [
             0.8784313725490196,
             "rgb(246,188,153)"
            ],
            [
             0.9411764705882353,
             "rgb(247,212,187)"
            ],
            [
             1,
             "rgb(250,234,220)"
            ]
           ],
           "sequentialminus": [
            [
             0,
             "rgb(2,4,25)"
            ],
            [
             0.06274509803921569,
             "rgb(24,15,41)"
            ],
            [
             0.12549019607843137,
             "rgb(47,23,57)"
            ],
            [
             0.18823529411764706,
             "rgb(71,28,72)"
            ],
            [
             0.25098039215686274,
             "rgb(97,30,82)"
            ],
            [
             0.3137254901960784,
             "rgb(123,30,89)"
            ],
            [
             0.3764705882352941,
             "rgb(150,27,91)"
            ],
            [
             0.4392156862745098,
             "rgb(177,22,88)"
            ],
            [
             0.5019607843137255,
             "rgb(203,26,79)"
            ],
            [
             0.5647058823529412,
             "rgb(223,47,67)"
            ],
            [
             0.6274509803921569,
             "rgb(236,76,61)"
            ],
            [
             0.6901960784313725,
             "rgb(242,107,73)"
            ],
            [
             0.7529411764705882,
             "rgb(244,135,95)"
            ],
            [
             0.8156862745098039,
             "rgb(245,162,122)"
            ],
            [
             0.8784313725490196,
             "rgb(246,188,153)"
            ],
            [
             0.9411764705882353,
             "rgb(247,212,187)"
            ],
            [
             1,
             "rgb(250,234,220)"
            ]
           ]
          },
          "colorway": [
           "rgb(76,114,176)",
           "rgb(221,132,82)",
           "rgb(85,168,104)",
           "rgb(196,78,82)",
           "rgb(129,114,179)",
           "rgb(147,120,96)",
           "rgb(218,139,195)",
           "rgb(140,140,140)",
           "rgb(204,185,116)",
           "rgb(100,181,205)"
          ],
          "font": {
           "color": "rgb(36,36,36)"
          },
          "geo": {
           "bgcolor": "white",
           "lakecolor": "white",
           "landcolor": "rgb(234,234,242)",
           "showlakes": true,
           "showland": true,
           "subunitcolor": "white"
          },
          "hoverlabel": {
           "align": "left"
          },
          "hovermode": "closest",
          "paper_bgcolor": "white",
          "plot_bgcolor": "rgb(234,234,242)",
          "polar": {
           "angularaxis": {
            "gridcolor": "white",
            "linecolor": "white",
            "showgrid": true,
            "ticks": ""
           },
           "bgcolor": "rgb(234,234,242)",
           "radialaxis": {
            "gridcolor": "white",
            "linecolor": "white",
            "showgrid": true,
            "ticks": ""
           }
          },
          "scene": {
           "xaxis": {
            "backgroundcolor": "rgb(234,234,242)",
            "gridcolor": "white",
            "gridwidth": 2,
            "linecolor": "white",
            "showbackground": true,
            "showgrid": true,
            "ticks": "",
            "zerolinecolor": "white"
           },
           "yaxis": {
            "backgroundcolor": "rgb(234,234,242)",
            "gridcolor": "white",
            "gridwidth": 2,
            "linecolor": "white",
            "showbackground": true,
            "showgrid": true,
            "ticks": "",
            "zerolinecolor": "white"
           },
           "zaxis": {
            "backgroundcolor": "rgb(234,234,242)",
            "gridcolor": "white",
            "gridwidth": 2,
            "linecolor": "white",
            "showbackground": true,
            "showgrid": true,
            "ticks": "",
            "zerolinecolor": "white"
           }
          },
          "shapedefaults": {
           "fillcolor": "rgb(67,103,167)",
           "line": {
            "width": 0
           },
           "opacity": 0.5
          },
          "ternary": {
           "aaxis": {
            "gridcolor": "white",
            "linecolor": "white",
            "showgrid": true,
            "ticks": ""
           },
           "baxis": {
            "gridcolor": "white",
            "linecolor": "white",
            "showgrid": true,
            "ticks": ""
           },
           "bgcolor": "rgb(234,234,242)",
           "caxis": {
            "gridcolor": "white",
            "linecolor": "white",
            "showgrid": true,
            "ticks": ""
           }
          },
          "xaxis": {
           "automargin": true,
           "gridcolor": "white",
           "linecolor": "white",
           "showgrid": true,
           "ticks": "",
           "title": {
            "standoff": 15
           },
           "zerolinecolor": "white"
          },
          "yaxis": {
           "automargin": true,
           "gridcolor": "white",
           "linecolor": "white",
           "showgrid": true,
           "ticks": "",
           "title": {
            "standoff": 15
           },
           "zerolinecolor": "white"
          }
         }
        },
        "xaxis": {
         "anchor": "y",
         "domain": [
          0,
          1
         ],
         "matches": "x2",
         "range": [
          1,
          5
         ],
         "showticklabels": true,
         "type": "log"
        },
        "xaxis2": {
         "anchor": "y2",
         "domain": [
          0,
          1
         ],
         "showticklabels": true,
         "title": {
          "text": "Period (s)"
         },
         "type": "log"
        },
        "yaxis": {
         "anchor": "x",
         "domain": [
          0.54,
          1
         ],
         "range": [
          0,
          4
         ],
         "title": {
          "text": "App. resistivity (Ohm m)"
         },
         "type": "log"
        },
        "yaxis2": {
         "anchor": "x2",
         "domain": [
          0,
          0.46
         ],
         "title": {
          "text": "Phase (degrees)"
         }
        }
       }
      },
      "text/html": [
       "<div>                            <div id=\"08132e31-3dfd-4473-98d4-f825ec091335\" class=\"plotly-graph-div\" style=\"height:900px; width:100%;\"></div>            <script type=\"text/javascript\">                require([\"plotly\"], function(Plotly) {                    window.PLOTLYENV=window.PLOTLYENV || {};                                    if (document.getElementById(\"08132e31-3dfd-4473-98d4-f825ec091335\")) {                    Plotly.newPlot(                        \"08132e31-3dfd-4473-98d4-f825ec091335\",                        [{\"legendgroup\":\"128 - ExHy\",\"line\":{\"color\":\"red\"},\"marker\":{\"color\":\"red\",\"symbol\":\"circle\"},\"mode\":\"lines+markers\",\"name\":\"128 - ExHy\",\"x\":[20.0,28.284271247461902,40.0,56.568542494923804,80.0,113.13708498984761,160.0,226.27416997969522,320.0,452.54833995939043,640.0,905.0966799187809,1280.0,1810.1933598375617,2560.0,3620.3867196751235,5120.0,7240.773439350247,10240.0,14481.546878700494],\"y\":[179.2042429719653,380.1226942711063,457.6575229878166,525.245568558116,537.2177604198141,569.016549659512,500.6794932564675,434.12597701229265,417.746141951959,382.4120516961956,306.6482882775424,267.69822756351465,221.2275108304704,198.28684146912286,166.69628609038153,169.94910304643165,161.32344152322955,114.66246386150723,47.792740242591066,64.92627214696147],\"type\":\"scatter\",\"xaxis\":\"x\",\"yaxis\":\"y\"},{\"legendgroup\":\"128 - ExHy\",\"line\":{\"color\":\"red\"},\"marker\":{\"color\":\"red\",\"symbol\":\"circle\"},\"mode\":\"lines+markers\",\"name\":\"128 - ExHy\",\"showlegend\":false,\"x\":[20.0,28.284271247461902,40.0,56.568542494923804,80.0,113.13708498984761,160.0,226.27416997969522,320.0,452.54833995939043,640.0,905.0966799187809,1280.0,1810.1933598375617,2560.0,3620.3867196751235,5120.0,7240.773439350247,10240.0,14481.546878700494],\"y\":[-146.86849921429172,-144.20922397764514,-139.9806759692415,-136.98878160282584,-134.33922383724246,-131.39559753772303,-128.6751872936514,-124.23260236502972,-122.62840186645923,-121.15789037674375,-117.5273386596304,-116.97195376219452,-115.61695904267573,-116.73875591578542,-113.08305961551268,-111.54960582756219,-107.48280077485225,-104.08684687318438,-83.57003341982077,-84.31710741299688],\"type\":\"scatter\",\"xaxis\":\"x2\",\"yaxis\":\"y2\"},{\"legendgroup\":\"128 - EyHx\",\"line\":{\"color\":\"blue\"},\"marker\":{\"color\":\"blue\",\"symbol\":\"circle\"},\"mode\":\"lines+markers\",\"name\":\"128 - EyHx\",\"x\":[20.0,28.284271247461902,40.0,56.568542494923804,80.0,113.13708498984761,160.0,226.27416997969522,320.0,452.54833995939043,640.0,905.0966799187809,1280.0,1810.1933598375617,2560.0,3620.3867196751235,5120.0,7240.773439350247,10240.0,14481.546878700494],\"y\":[405.0189481972673,382.66955843642694,305.36318219162365,203.04300997618407,157.75893504071018,124.25253178465512,85.29838384266647,59.77597708003645,52.35976257044865,42.40226904902411,32.81374525429417,22.12243568062549,24.364554394478763,14.220444794479853,10.556795042909751,3.6059090422587645,10.185777643000462,2.0883309948857436,5.985381286502794,5.31605018513657],\"type\":\"scatter\",\"xaxis\":\"x\",\"yaxis\":\"y\"},{\"legendgroup\":\"128 - EyHx\",\"line\":{\"color\":\"blue\"},\"marker\":{\"color\":\"blue\",\"symbol\":\"circle\"},\"mode\":\"lines+markers\",\"name\":\"128 - EyHx\",\"showlegend\":false,\"x\":[20.0,28.284271247461902,40.0,56.568542494923804,80.0,113.13708498984761,160.0,226.27416997969522,320.0,452.54833995939043,640.0,905.0966799187809,1280.0,1810.1933598375617,2560.0,3620.3867196751235,5120.0,7240.773439350247,10240.0,14481.546878700494],\"y\":[-119.8878774865439,-107.72756659328677,-102.2984188254164,-99.91156149426632,-100.1621365646004,-99.32119818618412,-98.97974319402103,-98.6416937571589,-103.36434278813067,-101.32067007964453,-107.10507526183027,-105.29885065154285,-109.15935215372583,-106.49849480893897,-101.53159399991587,-111.39077529444846,-111.79079282597864,-105.35905338308423,-111.02843711010576,-88.39508720214747],\"type\":\"scatter\",\"xaxis\":\"x2\",\"yaxis\":\"y2\"}],                        {\"template\":{\"data\":{\"barpolar\":[{\"marker\":{\"line\":{\"color\":\"rgb(234,234,242)\",\"width\":0.5},\"pattern\":{\"fillmode\":\"overlay\",\"size\":10,\"solidity\":0.2}},\"type\":\"barpolar\"}],\"bar\":[{\"error_x\":{\"color\":\"rgb(36,36,36)\"},\"error_y\":{\"color\":\"rgb(36,36,36)\"},\"marker\":{\"line\":{\"color\":\"rgb(234,234,242)\",\"width\":0.5},\"pattern\":{\"fillmode\":\"overlay\",\"size\":10,\"solidity\":0.2}},\"type\":\"bar\"}],\"carpet\":[{\"aaxis\":{\"endlinecolor\":\"rgb(36,36,36)\",\"gridcolor\":\"white\",\"linecolor\":\"white\",\"minorgridcolor\":\"white\",\"startlinecolor\":\"rgb(36,36,36)\"},\"baxis\":{\"endlinecolor\":\"rgb(36,36,36)\",\"gridcolor\":\"white\",\"linecolor\":\"white\",\"minorgridcolor\":\"white\",\"startlinecolor\":\"rgb(36,36,36)\"},\"type\":\"carpet\"}],\"choropleth\":[{\"colorbar\":{\"outlinewidth\":0,\"tickcolor\":\"rgb(36,36,36)\",\"ticklen\":8,\"ticks\":\"outside\",\"tickwidth\":2},\"type\":\"choropleth\"}],\"contourcarpet\":[{\"colorbar\":{\"outlinewidth\":0,\"tickcolor\":\"rgb(36,36,36)\",\"ticklen\":8,\"ticks\":\"outside\",\"tickwidth\":2},\"type\":\"contourcarpet\"}],\"contour\":[{\"colorbar\":{\"outlinewidth\":0,\"tickcolor\":\"rgb(36,36,36)\",\"ticklen\":8,\"ticks\":\"outside\",\"tickwidth\":2},\"colorscale\":[[0.0,\"rgb(2,4,25)\"],[0.06274509803921569,\"rgb(24,15,41)\"],[0.12549019607843137,\"rgb(47,23,57)\"],[0.18823529411764706,\"rgb(71,28,72)\"],[0.25098039215686274,\"rgb(97,30,82)\"],[0.3137254901960784,\"rgb(123,30,89)\"],[0.3764705882352941,\"rgb(150,27,91)\"],[0.4392156862745098,\"rgb(177,22,88)\"],[0.5019607843137255,\"rgb(203,26,79)\"],[0.5647058823529412,\"rgb(223,47,67)\"],[0.6274509803921569,\"rgb(236,76,61)\"],[0.6901960784313725,\"rgb(242,107,73)\"],[0.7529411764705882,\"rgb(244,135,95)\"],[0.8156862745098039,\"rgb(245,162,122)\"],[0.8784313725490196,\"rgb(246,188,153)\"],[0.9411764705882353,\"rgb(247,212,187)\"],[1.0,\"rgb(250,234,220)\"]],\"type\":\"contour\"}],\"heatmapgl\":[{\"colorbar\":{\"outlinewidth\":0,\"tickcolor\":\"rgb(36,36,36)\",\"ticklen\":8,\"ticks\":\"outside\",\"tickwidth\":2},\"colorscale\":[[0.0,\"rgb(2,4,25)\"],[0.06274509803921569,\"rgb(24,15,41)\"],[0.12549019607843137,\"rgb(47,23,57)\"],[0.18823529411764706,\"rgb(71,28,72)\"],[0.25098039215686274,\"rgb(97,30,82)\"],[0.3137254901960784,\"rgb(123,30,89)\"],[0.3764705882352941,\"rgb(150,27,91)\"],[0.4392156862745098,\"rgb(177,22,88)\"],[0.5019607843137255,\"rgb(203,26,79)\"],[0.5647058823529412,\"rgb(223,47,67)\"],[0.6274509803921569,\"rgb(236,76,61)\"],[0.6901960784313725,\"rgb(242,107,73)\"],[0.7529411764705882,\"rgb(244,135,95)\"],[0.8156862745098039,\"rgb(245,162,122)\"],[0.8784313725490196,\"rgb(246,188,153)\"],[0.9411764705882353,\"rgb(247,212,187)\"],[1.0,\"rgb(250,234,220)\"]],\"type\":\"heatmapgl\"}],\"heatmap\":[{\"colorbar\":{\"outlinewidth\":0,\"tickcolor\":\"rgb(36,36,36)\",\"ticklen\":8,\"ticks\":\"outside\",\"tickwidth\":2},\"colorscale\":[[0.0,\"rgb(2,4,25)\"],[0.06274509803921569,\"rgb(24,15,41)\"],[0.12549019607843137,\"rgb(47,23,57)\"],[0.18823529411764706,\"rgb(71,28,72)\"],[0.25098039215686274,\"rgb(97,30,82)\"],[0.3137254901960784,\"rgb(123,30,89)\"],[0.3764705882352941,\"rgb(150,27,91)\"],[0.4392156862745098,\"rgb(177,22,88)\"],[0.5019607843137255,\"rgb(203,26,79)\"],[0.5647058823529412,\"rgb(223,47,67)\"],[0.6274509803921569,\"rgb(236,76,61)\"],[0.6901960784313725,\"rgb(242,107,73)\"],[0.7529411764705882,\"rgb(244,135,95)\"],[0.8156862745098039,\"rgb(245,162,122)\"],[0.8784313725490196,\"rgb(246,188,153)\"],[0.9411764705882353,\"rgb(247,212,187)\"],[1.0,\"rgb(250,234,220)\"]],\"type\":\"heatmap\"}],\"histogram2dcontour\":[{\"colorbar\":{\"outlinewidth\":0,\"tickcolor\":\"rgb(36,36,36)\",\"ticklen\":8,\"ticks\":\"outside\",\"tickwidth\":2},\"colorscale\":[[0.0,\"rgb(2,4,25)\"],[0.06274509803921569,\"rgb(24,15,41)\"],[0.12549019607843137,\"rgb(47,23,57)\"],[0.18823529411764706,\"rgb(71,28,72)\"],[0.25098039215686274,\"rgb(97,30,82)\"],[0.3137254901960784,\"rgb(123,30,89)\"],[0.3764705882352941,\"rgb(150,27,91)\"],[0.4392156862745098,\"rgb(177,22,88)\"],[0.5019607843137255,\"rgb(203,26,79)\"],[0.5647058823529412,\"rgb(223,47,67)\"],[0.6274509803921569,\"rgb(236,76,61)\"],[0.6901960784313725,\"rgb(242,107,73)\"],[0.7529411764705882,\"rgb(244,135,95)\"],[0.8156862745098039,\"rgb(245,162,122)\"],[0.8784313725490196,\"rgb(246,188,153)\"],[0.9411764705882353,\"rgb(247,212,187)\"],[1.0,\"rgb(250,234,220)\"]],\"type\":\"histogram2dcontour\"}],\"histogram2d\":[{\"colorbar\":{\"outlinewidth\":0,\"tickcolor\":\"rgb(36,36,36)\",\"ticklen\":8,\"ticks\":\"outside\",\"tickwidth\":2},\"colorscale\":[[0.0,\"rgb(2,4,25)\"],[0.06274509803921569,\"rgb(24,15,41)\"],[0.12549019607843137,\"rgb(47,23,57)\"],[0.18823529411764706,\"rgb(71,28,72)\"],[0.25098039215686274,\"rgb(97,30,82)\"],[0.3137254901960784,\"rgb(123,30,89)\"],[0.3764705882352941,\"rgb(150,27,91)\"],[0.4392156862745098,\"rgb(177,22,88)\"],[0.5019607843137255,\"rgb(203,26,79)\"],[0.5647058823529412,\"rgb(223,47,67)\"],[0.6274509803921569,\"rgb(236,76,61)\"],[0.6901960784313725,\"rgb(242,107,73)\"],[0.7529411764705882,\"rgb(244,135,95)\"],[0.8156862745098039,\"rgb(245,162,122)\"],[0.8784313725490196,\"rgb(246,188,153)\"],[0.9411764705882353,\"rgb(247,212,187)\"],[1.0,\"rgb(250,234,220)\"]],\"type\":\"histogram2d\"}],\"histogram\":[{\"marker\":{\"pattern\":{\"fillmode\":\"overlay\",\"size\":10,\"solidity\":0.2}},\"type\":\"histogram\"}],\"mesh3d\":[{\"colorbar\":{\"outlinewidth\":0,\"tickcolor\":\"rgb(36,36,36)\",\"ticklen\":8,\"ticks\":\"outside\",\"tickwidth\":2},\"type\":\"mesh3d\"}],\"parcoords\":[{\"line\":{\"colorbar\":{\"outlinewidth\":0,\"tickcolor\":\"rgb(36,36,36)\",\"ticklen\":8,\"ticks\":\"outside\",\"tickwidth\":2}},\"type\":\"parcoords\"}],\"pie\":[{\"automargin\":true,\"type\":\"pie\"}],\"scatter3d\":[{\"line\":{\"colorbar\":{\"outlinewidth\":0,\"tickcolor\":\"rgb(36,36,36)\",\"ticklen\":8,\"ticks\":\"outside\",\"tickwidth\":2}},\"marker\":{\"colorbar\":{\"outlinewidth\":0,\"tickcolor\":\"rgb(36,36,36)\",\"ticklen\":8,\"ticks\":\"outside\",\"tickwidth\":2}},\"type\":\"scatter3d\"}],\"scattercarpet\":[{\"marker\":{\"colorbar\":{\"outlinewidth\":0,\"tickcolor\":\"rgb(36,36,36)\",\"ticklen\":8,\"ticks\":\"outside\",\"tickwidth\":2}},\"type\":\"scattercarpet\"}],\"scattergeo\":[{\"marker\":{\"colorbar\":{\"outlinewidth\":0,\"tickcolor\":\"rgb(36,36,36)\",\"ticklen\":8,\"ticks\":\"outside\",\"tickwidth\":2}},\"type\":\"scattergeo\"}],\"scattergl\":[{\"marker\":{\"colorbar\":{\"outlinewidth\":0,\"tickcolor\":\"rgb(36,36,36)\",\"ticklen\":8,\"ticks\":\"outside\",\"tickwidth\":2}},\"type\":\"scattergl\"}],\"scattermapbox\":[{\"marker\":{\"colorbar\":{\"outlinewidth\":0,\"tickcolor\":\"rgb(36,36,36)\",\"ticklen\":8,\"ticks\":\"outside\",\"tickwidth\":2}},\"type\":\"scattermapbox\"}],\"scatterpolargl\":[{\"marker\":{\"colorbar\":{\"outlinewidth\":0,\"tickcolor\":\"rgb(36,36,36)\",\"ticklen\":8,\"ticks\":\"outside\",\"tickwidth\":2}},\"type\":\"scatterpolargl\"}],\"scatterpolar\":[{\"marker\":{\"colorbar\":{\"outlinewidth\":0,\"tickcolor\":\"rgb(36,36,36)\",\"ticklen\":8,\"ticks\":\"outside\",\"tickwidth\":2}},\"type\":\"scatterpolar\"}],\"scatter\":[{\"fillpattern\":{\"fillmode\":\"overlay\",\"size\":10,\"solidity\":0.2},\"type\":\"scatter\"}],\"scatterternary\":[{\"marker\":{\"colorbar\":{\"outlinewidth\":0,\"tickcolor\":\"rgb(36,36,36)\",\"ticklen\":8,\"ticks\":\"outside\",\"tickwidth\":2}},\"type\":\"scatterternary\"}],\"surface\":[{\"colorbar\":{\"outlinewidth\":0,\"tickcolor\":\"rgb(36,36,36)\",\"ticklen\":8,\"ticks\":\"outside\",\"tickwidth\":2},\"colorscale\":[[0.0,\"rgb(2,4,25)\"],[0.06274509803921569,\"rgb(24,15,41)\"],[0.12549019607843137,\"rgb(47,23,57)\"],[0.18823529411764706,\"rgb(71,28,72)\"],[0.25098039215686274,\"rgb(97,30,82)\"],[0.3137254901960784,\"rgb(123,30,89)\"],[0.3764705882352941,\"rgb(150,27,91)\"],[0.4392156862745098,\"rgb(177,22,88)\"],[0.5019607843137255,\"rgb(203,26,79)\"],[0.5647058823529412,\"rgb(223,47,67)\"],[0.6274509803921569,\"rgb(236,76,61)\"],[0.6901960784313725,\"rgb(242,107,73)\"],[0.7529411764705882,\"rgb(244,135,95)\"],[0.8156862745098039,\"rgb(245,162,122)\"],[0.8784313725490196,\"rgb(246,188,153)\"],[0.9411764705882353,\"rgb(247,212,187)\"],[1.0,\"rgb(250,234,220)\"]],\"type\":\"surface\"}],\"table\":[{\"cells\":{\"fill\":{\"color\":\"rgb(231,231,240)\"},\"line\":{\"color\":\"white\"}},\"header\":{\"fill\":{\"color\":\"rgb(183,183,191)\"},\"line\":{\"color\":\"white\"}},\"type\":\"table\"}]},\"layout\":{\"annotationdefaults\":{\"arrowcolor\":\"rgb(67,103,167)\"},\"autotypenumbers\":\"strict\",\"coloraxis\":{\"colorbar\":{\"outlinewidth\":0,\"tickcolor\":\"rgb(36,36,36)\",\"ticklen\":8,\"ticks\":\"outside\",\"tickwidth\":2}},\"colorscale\":{\"sequential\":[[0.0,\"rgb(2,4,25)\"],[0.06274509803921569,\"rgb(24,15,41)\"],[0.12549019607843137,\"rgb(47,23,57)\"],[0.18823529411764706,\"rgb(71,28,72)\"],[0.25098039215686274,\"rgb(97,30,82)\"],[0.3137254901960784,\"rgb(123,30,89)\"],[0.3764705882352941,\"rgb(150,27,91)\"],[0.4392156862745098,\"rgb(177,22,88)\"],[0.5019607843137255,\"rgb(203,26,79)\"],[0.5647058823529412,\"rgb(223,47,67)\"],[0.6274509803921569,\"rgb(236,76,61)\"],[0.6901960784313725,\"rgb(242,107,73)\"],[0.7529411764705882,\"rgb(244,135,95)\"],[0.8156862745098039,\"rgb(245,162,122)\"],[0.8784313725490196,\"rgb(246,188,153)\"],[0.9411764705882353,\"rgb(247,212,187)\"],[1.0,\"rgb(250,234,220)\"]],\"sequentialminus\":[[0.0,\"rgb(2,4,25)\"],[0.06274509803921569,\"rgb(24,15,41)\"],[0.12549019607843137,\"rgb(47,23,57)\"],[0.18823529411764706,\"rgb(71,28,72)\"],[0.25098039215686274,\"rgb(97,30,82)\"],[0.3137254901960784,\"rgb(123,30,89)\"],[0.3764705882352941,\"rgb(150,27,91)\"],[0.4392156862745098,\"rgb(177,22,88)\"],[0.5019607843137255,\"rgb(203,26,79)\"],[0.5647058823529412,\"rgb(223,47,67)\"],[0.6274509803921569,\"rgb(236,76,61)\"],[0.6901960784313725,\"rgb(242,107,73)\"],[0.7529411764705882,\"rgb(244,135,95)\"],[0.8156862745098039,\"rgb(245,162,122)\"],[0.8784313725490196,\"rgb(246,188,153)\"],[0.9411764705882353,\"rgb(247,212,187)\"],[1.0,\"rgb(250,234,220)\"]]},\"colorway\":[\"rgb(76,114,176)\",\"rgb(221,132,82)\",\"rgb(85,168,104)\",\"rgb(196,78,82)\",\"rgb(129,114,179)\",\"rgb(147,120,96)\",\"rgb(218,139,195)\",\"rgb(140,140,140)\",\"rgb(204,185,116)\",\"rgb(100,181,205)\"],\"font\":{\"color\":\"rgb(36,36,36)\"},\"geo\":{\"bgcolor\":\"white\",\"lakecolor\":\"white\",\"landcolor\":\"rgb(234,234,242)\",\"showlakes\":true,\"showland\":true,\"subunitcolor\":\"white\"},\"hoverlabel\":{\"align\":\"left\"},\"hovermode\":\"closest\",\"paper_bgcolor\":\"white\",\"plot_bgcolor\":\"rgb(234,234,242)\",\"polar\":{\"angularaxis\":{\"gridcolor\":\"white\",\"linecolor\":\"white\",\"showgrid\":true,\"ticks\":\"\"},\"bgcolor\":\"rgb(234,234,242)\",\"radialaxis\":{\"gridcolor\":\"white\",\"linecolor\":\"white\",\"showgrid\":true,\"ticks\":\"\"}},\"scene\":{\"xaxis\":{\"backgroundcolor\":\"rgb(234,234,242)\",\"gridcolor\":\"white\",\"gridwidth\":2,\"linecolor\":\"white\",\"showbackground\":true,\"showgrid\":true,\"ticks\":\"\",\"zerolinecolor\":\"white\"},\"yaxis\":{\"backgroundcolor\":\"rgb(234,234,242)\",\"gridcolor\":\"white\",\"gridwidth\":2,\"linecolor\":\"white\",\"showbackground\":true,\"showgrid\":true,\"ticks\":\"\",\"zerolinecolor\":\"white\"},\"zaxis\":{\"backgroundcolor\":\"rgb(234,234,242)\",\"gridcolor\":\"white\",\"gridwidth\":2,\"linecolor\":\"white\",\"showbackground\":true,\"showgrid\":true,\"ticks\":\"\",\"zerolinecolor\":\"white\"}},\"shapedefaults\":{\"fillcolor\":\"rgb(67,103,167)\",\"line\":{\"width\":0},\"opacity\":0.5},\"ternary\":{\"aaxis\":{\"gridcolor\":\"white\",\"linecolor\":\"white\",\"showgrid\":true,\"ticks\":\"\"},\"baxis\":{\"gridcolor\":\"white\",\"linecolor\":\"white\",\"showgrid\":true,\"ticks\":\"\"},\"bgcolor\":\"rgb(234,234,242)\",\"caxis\":{\"gridcolor\":\"white\",\"linecolor\":\"white\",\"showgrid\":true,\"ticks\":\"\"}},\"xaxis\":{\"automargin\":true,\"gridcolor\":\"white\",\"linecolor\":\"white\",\"showgrid\":true,\"ticks\":\"\",\"title\":{\"standoff\":15},\"zerolinecolor\":\"white\"},\"yaxis\":{\"automargin\":true,\"gridcolor\":\"white\",\"linecolor\":\"white\",\"showgrid\":true,\"ticks\":\"\",\"title\":{\"standoff\":15},\"zerolinecolor\":\"white\"}}},\"xaxis\":{\"anchor\":\"y\",\"domain\":[0.0,1.0],\"matches\":\"x2\",\"showticklabels\":true,\"type\":\"log\",\"range\":[1,5]},\"yaxis\":{\"anchor\":\"x\",\"domain\":[0.54,1.0],\"title\":{\"text\":\"App. resistivity (Ohm m)\"},\"type\":\"log\",\"range\":[0,4]},\"xaxis2\":{\"anchor\":\"y2\",\"domain\":[0.0,1.0],\"title\":{\"text\":\"Period (s)\"},\"type\":\"log\",\"showticklabels\":true},\"yaxis2\":{\"anchor\":\"x2\",\"domain\":[0.0,0.46],\"title\":{\"text\":\"Phase (degrees)\"}},\"annotations\":[{\"font\":{\"size\":16},\"showarrow\":false,\"text\":\"Apparent resistivity\",\"x\":0.5,\"xanchor\":\"center\",\"xref\":\"paper\",\"y\":1.0,\"yanchor\":\"bottom\",\"yref\":\"paper\"},{\"font\":{\"size\":16},\"showarrow\":false,\"text\":\"Phase\",\"x\":0.5,\"xanchor\":\"center\",\"xref\":\"paper\",\"y\":0.46,\"yanchor\":\"bottom\",\"yref\":\"paper\"}],\"margin\":{\"l\":0,\"r\":0,\"b\":0,\"t\":50},\"height\":900},                        {\"responsive\": true}                    ).then(function(){\n",
       "                            \n",
       "var gd = document.getElementById('08132e31-3dfd-4473-98d4-f825ec091335');\n",
       "var x = new MutationObserver(function (mutations, observer) {{\n",
       "        var display = window.getComputedStyle(gd).display;\n",
       "        if (!display || display === 'none') {{\n",
       "            console.log([gd, 'removed!']);\n",
       "            Plotly.purge(gd);\n",
       "            observer.disconnect();\n",
       "        }}\n",
       "}});\n",
       "\n",
       "// Listen for the removal of the full notebook cells\n",
       "var notebookContainer = gd.closest('#notebook-container');\n",
       "if (notebookContainer) {{\n",
       "    x.observe(notebookContainer, {childList: true});\n",
       "}}\n",
       "\n",
       "// Listen for the clearing of the current output cell\n",
       "var outputEl = gd.closest('.output');\n",
       "if (outputEl) {{\n",
       "    x.observe(outputEl, {childList: true});\n",
       "}}\n",
       "\n",
       "                        })                };                });            </script>        </div>"
      ]
     },
     "metadata": {},
     "output_type": "display_data"
    }
   ],
   "source": [
    "soln = config.solver.run(reg_data)\n",
    "fig = soln.tf.plot(\n",
    "    soln.freqs,\n",
    "    soln.components,\n",
    "    to_plot=[\"ExHy\", \"EyHx\"],\n",
    "    x_lim=[1, 5],\n",
    "    res_lim=[0, 4],\n",
    "    legend=\"128\",\n",
    "    symbol=\"circle\",\n",
    ")\n",
    "fig.update_layout(height=900)\n",
    "fig.show()"
   ]
  }
 ],
 "metadata": {
  "kernelspec": {
   "display_name": "resistics-b-6cR9vn-py3.10",
   "language": "python",
   "name": "python3"
  },
  "language_info": {
   "codemirror_mode": {
    "name": "ipython",
    "version": 3
   },
   "file_extension": ".py",
   "mimetype": "text/x-python",
   "name": "python",
   "nbconvert_exporter": "python",
   "pygments_lexer": "ipython3",
   "version": "3.10.6"
  },
  "orig_nbformat": 4
 },
 "nbformat": 4,
 "nbformat_minor": 2
}
