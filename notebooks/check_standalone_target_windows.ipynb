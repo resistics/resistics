{
 "cells": [
  {
   "attachments": {},
   "cell_type": "markdown",
   "metadata": {},
   "source": [
    "Process a single recording. This involves:\n",
    "\n",
    "- Define a configuration\n",
    "- Read in the time data\n",
    "- Preprocess the time data\n",
    "- Decimate the time data\n",
    "- Window the decimated data\n",
    "- Calculate the spectra\n",
    "- Calculate spectral values at evaluation frequencies\n",
    "- Do the regression"
   ]
  },
  {
   "cell_type": "code",
   "execution_count": 37,
   "metadata": {},
   "outputs": [],
   "source": [
    "from pathlib import Path\n",
    "from resistics.config import Configuration\n",
    "from resistics.time import TimeReaderNumpy\n",
    "from resistics.gather import QuickGather"
   ]
  },
  {
   "cell_type": "code",
   "execution_count": 38,
   "metadata": {},
   "outputs": [],
   "source": [
    "config = Configuration(name=\"testing\")"
   ]
  },
  {
   "cell_type": "code",
   "execution_count": 39,
   "metadata": {},
   "outputs": [
    {
     "name": "stderr",
     "output_type": "stream",
     "text": [
      "\u001b[32m2023-04-28 08:12:05.333\u001b[0m | \u001b[1mINFO    \u001b[0m | \u001b[36mresistics.time\u001b[0m:\u001b[36mrun\u001b[0m:\u001b[36m777\u001b[0m - \u001b[1mReading time series data from ../data/time/quick/kap123\u001b[0m\n",
      "\u001b[32m2023-04-28 08:12:05.334\u001b[0m | \u001b[34m\u001b[1mDEBUG   \u001b[0m | \u001b[36mresistics.time\u001b[0m:\u001b[36mrun\u001b[0m:\u001b[36m779\u001b[0m - \u001b[34m\u001b[1mReading time series metadata from ../data/time/quick/kap123\u001b[0m\n",
      "\u001b[32m2023-04-28 08:12:05.335\u001b[0m | \u001b[34m\u001b[1mDEBUG   \u001b[0m | \u001b[36mresistics.time\u001b[0m:\u001b[36mrun\u001b[0m:\u001b[36m787\u001b[0m - \u001b[34m\u001b[1mReading samples from 0 to 361511\u001b[0m\n",
      "\u001b[32m2023-04-28 08:12:05.337\u001b[0m | \u001b[1mINFO    \u001b[0m | \u001b[36mresistics.time\u001b[0m:\u001b[36mread_data\u001b[0m:\u001b[36m1133\u001b[0m - \u001b[1mData successfully read from ../data/time/quick/kap123\u001b[0m\n",
      "\u001b[32m2023-04-28 08:12:05.338\u001b[0m | \u001b[34m\u001b[1mDEBUG   \u001b[0m | \u001b[36mresistics.time\u001b[0m:\u001b[36m__init__\u001b[0m:\u001b[36m479\u001b[0m - \u001b[34m\u001b[1mCreating TimeData with data type float32\u001b[0m\n",
      "\u001b[32m2023-04-28 08:12:05.338\u001b[0m | \u001b[34m\u001b[1mDEBUG   \u001b[0m | \u001b[36mresistics.time\u001b[0m:\u001b[36mrun\u001b[0m:\u001b[36m790\u001b[0m - \u001b[34m\u001b[1mApplying scaling to time series data\u001b[0m\n"
     ]
    }
   ],
   "source": [
    "dir_path = Path(\"..\", \"data\", \"time\", \"quick\", \"kap123\")\n",
    "time_data = TimeReaderNumpy().run(dir_path)\n",
    "ref_time = time_data.metadata.first_time"
   ]
  },
  {
   "cell_type": "code",
   "execution_count": 40,
   "metadata": {},
   "outputs": [
    {
     "name": "stderr",
     "output_type": "stream",
     "text": [
      "\u001b[32m2023-04-28 08:12:05.362\u001b[0m | \u001b[1mINFO    \u001b[0m | \u001b[36mresistics.time\u001b[0m:\u001b[36mrun\u001b[0m:\u001b[36m1532\u001b[0m - \u001b[1mRemoving nan values from channels ['Hx', 'Hy', 'Hz', 'Ex', 'Ey']\u001b[0m\n",
      "\u001b[32m2023-04-28 08:12:05.375\u001b[0m | \u001b[34m\u001b[1mDEBUG   \u001b[0m | \u001b[36mresistics.time\u001b[0m:\u001b[36m__init__\u001b[0m:\u001b[36m479\u001b[0m - \u001b[34m\u001b[1mCreating TimeData with data type float32\u001b[0m\n",
      "\u001b[32m2023-04-28 08:12:05.376\u001b[0m | \u001b[1mINFO    \u001b[0m | \u001b[36mresistics.time\u001b[0m:\u001b[36mrun\u001b[0m:\u001b[36m1607\u001b[0m - \u001b[1mRemoving mean from channels ['Hx', 'Hy', 'Hz', 'Ex', 'Ey']\u001b[0m\n",
      "\u001b[32m2023-04-28 08:12:05.383\u001b[0m | \u001b[34m\u001b[1mDEBUG   \u001b[0m | \u001b[36mresistics.time\u001b[0m:\u001b[36m__init__\u001b[0m:\u001b[36m479\u001b[0m - \u001b[34m\u001b[1mCreating TimeData with data type float32\u001b[0m\n"
     ]
    }
   ],
   "source": [
    "for processor in config.time_processors:\n",
    "    time_data = processor.run(time_data)"
   ]
  },
  {
   "cell_type": "code",
   "execution_count": 41,
   "metadata": {},
   "outputs": [
    {
     "name": "stderr",
     "output_type": "stream",
     "text": [
      "\u001b[32m2023-04-28 08:12:05.444\u001b[0m | \u001b[1mINFO    \u001b[0m | \u001b[36mresistics.decimate\u001b[0m:\u001b[36mrun\u001b[0m:\u001b[36m759\u001b[0m - \u001b[1mDecimating level 0 with factor 1\u001b[0m\n",
      "\u001b[32m2023-04-28 08:12:05.445\u001b[0m | \u001b[1mINFO    \u001b[0m | \u001b[36mresistics.decimate\u001b[0m:\u001b[36mrun\u001b[0m:\u001b[36m759\u001b[0m - \u001b[1mDecimating level 1 with factor 4\u001b[0m\n",
      "\u001b[32m2023-04-28 08:12:05.445\u001b[0m | \u001b[1mINFO    \u001b[0m | \u001b[36mresistics.time\u001b[0m:\u001b[36mrun\u001b[0m:\u001b[36m2146\u001b[0m - \u001b[1mResampling data from 0.2 Hz to 0.05 Hz\u001b[0m\n",
      "\u001b[32m2023-04-28 08:12:05.479\u001b[0m | \u001b[34m\u001b[1mDEBUG   \u001b[0m | \u001b[36mresistics.time\u001b[0m:\u001b[36m__init__\u001b[0m:\u001b[36m479\u001b[0m - \u001b[34m\u001b[1mCreating TimeData with data type float32\u001b[0m\n",
      "\u001b[32m2023-04-28 08:12:05.480\u001b[0m | \u001b[1mINFO    \u001b[0m | \u001b[36mresistics.decimate\u001b[0m:\u001b[36mrun\u001b[0m:\u001b[36m759\u001b[0m - \u001b[1mDecimating level 2 with factor 8\u001b[0m\n",
      "\u001b[32m2023-04-28 08:12:05.481\u001b[0m | \u001b[1mINFO    \u001b[0m | \u001b[36mresistics.time\u001b[0m:\u001b[36mrun\u001b[0m:\u001b[36m2146\u001b[0m - \u001b[1mResampling data from 0.05 Hz to 0.00625 Hz\u001b[0m\n",
      "\u001b[32m2023-04-28 08:12:05.487\u001b[0m | \u001b[34m\u001b[1mDEBUG   \u001b[0m | \u001b[36mresistics.time\u001b[0m:\u001b[36m__init__\u001b[0m:\u001b[36m479\u001b[0m - \u001b[34m\u001b[1mCreating TimeData with data type float32\u001b[0m\n",
      "\u001b[32m2023-04-28 08:12:05.488\u001b[0m | \u001b[1mINFO    \u001b[0m | \u001b[36mresistics.decimate\u001b[0m:\u001b[36mrun\u001b[0m:\u001b[36m759\u001b[0m - \u001b[1mDecimating level 3 with factor 4\u001b[0m\n",
      "\u001b[32m2023-04-28 08:12:05.488\u001b[0m | \u001b[1mINFO    \u001b[0m | \u001b[36mresistics.time\u001b[0m:\u001b[36mrun\u001b[0m:\u001b[36m2146\u001b[0m - \u001b[1mResampling data from 0.00625 Hz to 0.0015625 Hz\u001b[0m\n",
      "\u001b[32m2023-04-28 08:12:05.490\u001b[0m | \u001b[34m\u001b[1mDEBUG   \u001b[0m | \u001b[36mresistics.time\u001b[0m:\u001b[36m__init__\u001b[0m:\u001b[36m479\u001b[0m - \u001b[34m\u001b[1mCreating TimeData with data type float32\u001b[0m\n",
      "\u001b[32m2023-04-28 08:12:05.490\u001b[0m | \u001b[1mINFO    \u001b[0m | \u001b[36mresistics.decimate\u001b[0m:\u001b[36mrun\u001b[0m:\u001b[36m759\u001b[0m - \u001b[1mDecimating level 4 with factor 8\u001b[0m\n",
      "\u001b[32m2023-04-28 08:12:05.491\u001b[0m | \u001b[1mINFO    \u001b[0m | \u001b[36mresistics.time\u001b[0m:\u001b[36mrun\u001b[0m:\u001b[36m2146\u001b[0m - \u001b[1mResampling data from 0.0015625 Hz to 0.0001953125 Hz\u001b[0m\n",
      "\u001b[32m2023-04-28 08:12:05.492\u001b[0m | \u001b[34m\u001b[1mDEBUG   \u001b[0m | \u001b[36mresistics.time\u001b[0m:\u001b[36m__init__\u001b[0m:\u001b[36m479\u001b[0m - \u001b[34m\u001b[1mCreating TimeData with data type float32\u001b[0m\n",
      "\u001b[32m2023-04-28 08:12:05.493\u001b[0m | \u001b[1mINFO    \u001b[0m | \u001b[36mresistics.decimate\u001b[0m:\u001b[36mrun\u001b[0m:\u001b[36m759\u001b[0m - \u001b[1mDecimating level 5 with factor 4\u001b[0m\n",
      "\u001b[32m2023-04-28 08:12:05.494\u001b[0m | \u001b[1mINFO    \u001b[0m | \u001b[36mresistics.time\u001b[0m:\u001b[36mrun\u001b[0m:\u001b[36m2146\u001b[0m - \u001b[1mResampling data from 0.0001953125 Hz to 4.8828125e-05 Hz\u001b[0m\n",
      "\u001b[32m2023-04-28 08:12:05.496\u001b[0m | \u001b[34m\u001b[1mDEBUG   \u001b[0m | \u001b[36mresistics.time\u001b[0m:\u001b[36m__init__\u001b[0m:\u001b[36m479\u001b[0m - \u001b[34m\u001b[1mCreating TimeData with data type float32\u001b[0m\n",
      "\u001b[32m2023-04-28 08:12:05.497\u001b[0m | \u001b[33m\u001b[1mWARNING \u001b[0m | \u001b[36mresistics.decimate\u001b[0m:\u001b[36mrun\u001b[0m:\u001b[36m762\u001b[0m - \u001b[33m\u001b[1mn_samples < min allowed 256\u001b[0m\n",
      "\u001b[32m2023-04-28 08:12:05.497\u001b[0m | \u001b[34m\u001b[1mDEBUG   \u001b[0m | \u001b[36mresistics.decimate\u001b[0m:\u001b[36m__init__\u001b[0m:\u001b[36m597\u001b[0m - \u001b[34m\u001b[1mCreating DecimatedData with data type float32\u001b[0m\n"
     ]
    }
   ],
   "source": [
    "dec_params = config.dec_setup.run(time_data.metadata.fs)\n",
    "dec_data = config.decimator.run(dec_params, time_data)"
   ]
  },
  {
   "cell_type": "code",
   "execution_count": 42,
   "metadata": {},
   "outputs": [
    {
     "name": "stderr",
     "output_type": "stream",
     "text": [
      "\u001b[32m2023-04-28 08:12:05.520\u001b[0m | \u001b[1mINFO    \u001b[0m | \u001b[36mresistics.window\u001b[0m:\u001b[36mrun\u001b[0m:\u001b[36m1330\u001b[0m - \u001b[1mWindowing decimation level 0\u001b[0m\n",
      "\u001b[32m2023-04-28 08:12:05.522\u001b[0m | \u001b[34m\u001b[1mDEBUG   \u001b[0m | \u001b[36mresistics.window\u001b[0m:\u001b[36mget_first_and_last_win\u001b[0m:\u001b[36m485\u001b[0m - \u001b[34m\u001b[1mAdjusting last window attempt 1\u001b[0m\n",
      "\u001b[32m2023-04-28 08:12:05.525\u001b[0m | \u001b[1mINFO    \u001b[0m | \u001b[36mresistics.window\u001b[0m:\u001b[36mrun\u001b[0m:\u001b[36m1336\u001b[0m - \u001b[1m3765 windows, size 128, overlap 32\u001b[0m\n",
      "\u001b[32m2023-04-28 08:12:05.526\u001b[0m | \u001b[1mINFO    \u001b[0m | \u001b[36mresistics.window\u001b[0m:\u001b[36mrun\u001b[0m:\u001b[36m1330\u001b[0m - \u001b[1mWindowing decimation level 1\u001b[0m\n",
      "\u001b[32m2023-04-28 08:12:05.527\u001b[0m | \u001b[34m\u001b[1mDEBUG   \u001b[0m | \u001b[36mresistics.window\u001b[0m:\u001b[36mget_first_and_last_win\u001b[0m:\u001b[36m485\u001b[0m - \u001b[34m\u001b[1mAdjusting last window attempt 1\u001b[0m\n",
      "\u001b[32m2023-04-28 08:12:05.529\u001b[0m | \u001b[1mINFO    \u001b[0m | \u001b[36mresistics.window\u001b[0m:\u001b[36mrun\u001b[0m:\u001b[36m1336\u001b[0m - \u001b[1m941 windows, size 128, overlap 32\u001b[0m\n",
      "\u001b[32m2023-04-28 08:12:05.530\u001b[0m | \u001b[1mINFO    \u001b[0m | \u001b[36mresistics.window\u001b[0m:\u001b[36mrun\u001b[0m:\u001b[36m1330\u001b[0m - \u001b[1mWindowing decimation level 2\u001b[0m\n",
      "\u001b[32m2023-04-28 08:12:05.531\u001b[0m | \u001b[34m\u001b[1mDEBUG   \u001b[0m | \u001b[36mresistics.window\u001b[0m:\u001b[36mget_first_and_last_win\u001b[0m:\u001b[36m485\u001b[0m - \u001b[34m\u001b[1mAdjusting last window attempt 1\u001b[0m\n",
      "\u001b[32m2023-04-28 08:12:05.533\u001b[0m | \u001b[1mINFO    \u001b[0m | \u001b[36mresistics.window\u001b[0m:\u001b[36mrun\u001b[0m:\u001b[36m1336\u001b[0m - \u001b[1m117 windows, size 128, overlap 32\u001b[0m\n",
      "\u001b[32m2023-04-28 08:12:05.535\u001b[0m | \u001b[1mINFO    \u001b[0m | \u001b[36mresistics.window\u001b[0m:\u001b[36mrun\u001b[0m:\u001b[36m1330\u001b[0m - \u001b[1mWindowing decimation level 3\u001b[0m\n",
      "\u001b[32m2023-04-28 08:12:05.536\u001b[0m | \u001b[34m\u001b[1mDEBUG   \u001b[0m | \u001b[36mresistics.window\u001b[0m:\u001b[36mget_first_and_last_win\u001b[0m:\u001b[36m485\u001b[0m - \u001b[34m\u001b[1mAdjusting last window attempt 1\u001b[0m\n",
      "\u001b[32m2023-04-28 08:12:05.538\u001b[0m | \u001b[1mINFO    \u001b[0m | \u001b[36mresistics.window\u001b[0m:\u001b[36mrun\u001b[0m:\u001b[36m1336\u001b[0m - \u001b[1m29 windows, size 128, overlap 32\u001b[0m\n",
      "\u001b[32m2023-04-28 08:12:05.539\u001b[0m | \u001b[1mINFO    \u001b[0m | \u001b[36mresistics.window\u001b[0m:\u001b[36mrun\u001b[0m:\u001b[36m1330\u001b[0m - \u001b[1mWindowing decimation level 4\u001b[0m\n",
      "\u001b[32m2023-04-28 08:12:05.539\u001b[0m | \u001b[34m\u001b[1mDEBUG   \u001b[0m | \u001b[36mresistics.window\u001b[0m:\u001b[36mget_first_and_last_win\u001b[0m:\u001b[36m485\u001b[0m - \u001b[34m\u001b[1mAdjusting last window attempt 1\u001b[0m\n",
      "\u001b[32m2023-04-28 08:12:05.541\u001b[0m | \u001b[1mINFO    \u001b[0m | \u001b[36mresistics.window\u001b[0m:\u001b[36mrun\u001b[0m:\u001b[36m1336\u001b[0m - \u001b[1m3 windows, size 128, overlap 32\u001b[0m\n",
      "\u001b[32m2023-04-28 08:12:05.541\u001b[0m | \u001b[34m\u001b[1mDEBUG   \u001b[0m | \u001b[36mresistics.window\u001b[0m:\u001b[36mrun\u001b[0m:\u001b[36m1341\u001b[0m - \u001b[34m\u001b[1mNumber windows 3 < min. 5\u001b[0m\n",
      "\u001b[32m2023-04-28 08:12:05.542\u001b[0m | \u001b[1mINFO    \u001b[0m | \u001b[36mresistics.window\u001b[0m:\u001b[36mrun\u001b[0m:\u001b[36m1369\u001b[0m - \u001b[1mWindowing completed\u001b[0m\n",
      "\u001b[32m2023-04-28 08:12:05.543\u001b[0m | \u001b[34m\u001b[1mDEBUG   \u001b[0m | \u001b[36mresistics.window\u001b[0m:\u001b[36m__init__\u001b[0m:\u001b[36m1094\u001b[0m - \u001b[34m\u001b[1mCreating WindowedData with data type float32\u001b[0m\n"
     ]
    }
   ],
   "source": [
    "win_params = config.win_setup.run(dec_data.metadata.n_levels, dec_data.metadata.fs)\n",
    "win_data = config.windower.run(ref_time, win_params, dec_data)"
   ]
  },
  {
   "cell_type": "code",
   "execution_count": 43,
   "metadata": {},
   "outputs": [
    {
     "name": "stderr",
     "output_type": "stream",
     "text": [
      "\u001b[32m2023-04-28 08:12:05.566\u001b[0m | \u001b[1mINFO    \u001b[0m | \u001b[36mresistics.spectra\u001b[0m:\u001b[36mrun\u001b[0m:\u001b[36m487\u001b[0m - \u001b[1mPerforming fourier transforms of windowed decimated data\u001b[0m\n",
      "\u001b[32m2023-04-28 08:12:05.566\u001b[0m | \u001b[1mINFO    \u001b[0m | \u001b[36mresistics.spectra\u001b[0m:\u001b[36mrun\u001b[0m:\u001b[36m489\u001b[0m - \u001b[1mTransforming level 0\u001b[0m\n",
      "\u001b[32m2023-04-28 08:12:05.567\u001b[0m | \u001b[34m\u001b[1mDEBUG   \u001b[0m | \u001b[36mresistics.spectra\u001b[0m:\u001b[36mrun\u001b[0m:\u001b[36m493\u001b[0m - \u001b[34m\u001b[1mPadding size 128 to next fast len 128\u001b[0m\n",
      "\u001b[32m2023-04-28 08:12:05.603\u001b[0m | \u001b[1mINFO    \u001b[0m | \u001b[36mresistics.spectra\u001b[0m:\u001b[36mrun\u001b[0m:\u001b[36m489\u001b[0m - \u001b[1mTransforming level 1\u001b[0m\n",
      "\u001b[32m2023-04-28 08:12:05.615\u001b[0m | \u001b[34m\u001b[1mDEBUG   \u001b[0m | \u001b[36mresistics.spectra\u001b[0m:\u001b[36mrun\u001b[0m:\u001b[36m493\u001b[0m - \u001b[34m\u001b[1mPadding size 128 to next fast len 128\u001b[0m\n",
      "\u001b[32m2023-04-28 08:12:05.622\u001b[0m | \u001b[1mINFO    \u001b[0m | \u001b[36mresistics.spectra\u001b[0m:\u001b[36mrun\u001b[0m:\u001b[36m489\u001b[0m - \u001b[1mTransforming level 2\u001b[0m\n",
      "\u001b[32m2023-04-28 08:12:05.622\u001b[0m | \u001b[34m\u001b[1mDEBUG   \u001b[0m | \u001b[36mresistics.spectra\u001b[0m:\u001b[36mrun\u001b[0m:\u001b[36m493\u001b[0m - \u001b[34m\u001b[1mPadding size 128 to next fast len 128\u001b[0m\n",
      "\u001b[32m2023-04-28 08:12:05.624\u001b[0m | \u001b[1mINFO    \u001b[0m | \u001b[36mresistics.spectra\u001b[0m:\u001b[36mrun\u001b[0m:\u001b[36m489\u001b[0m - \u001b[1mTransforming level 3\u001b[0m\n",
      "\u001b[32m2023-04-28 08:12:05.625\u001b[0m | \u001b[34m\u001b[1mDEBUG   \u001b[0m | \u001b[36mresistics.spectra\u001b[0m:\u001b[36mrun\u001b[0m:\u001b[36m493\u001b[0m - \u001b[34m\u001b[1mPadding size 128 to next fast len 128\u001b[0m\n",
      "\u001b[32m2023-04-28 08:12:05.626\u001b[0m | \u001b[1mINFO    \u001b[0m | \u001b[36mresistics.spectra\u001b[0m:\u001b[36mrun\u001b[0m:\u001b[36m504\u001b[0m - \u001b[1mFourier transforms completed\u001b[0m\n",
      "\u001b[32m2023-04-28 08:12:05.627\u001b[0m | \u001b[34m\u001b[1mDEBUG   \u001b[0m | \u001b[36mresistics.spectra\u001b[0m:\u001b[36m__init__\u001b[0m:\u001b[36m97\u001b[0m - \u001b[34m\u001b[1mCreating SpectraData with data type complex64\u001b[0m\n",
      "\u001b[32m2023-04-28 08:12:05.628\u001b[0m | \u001b[1mINFO    \u001b[0m | \u001b[36mresistics.spectra\u001b[0m:\u001b[36mrun\u001b[0m:\u001b[36m682\u001b[0m - \u001b[1mReducing freqs to evaluation freqs for level 0\u001b[0m\n",
      "\u001b[32m2023-04-28 08:12:05.630\u001b[0m | \u001b[1mINFO    \u001b[0m | \u001b[36mresistics.spectra\u001b[0m:\u001b[36mrun\u001b[0m:\u001b[36m682\u001b[0m - \u001b[1mReducing freqs to evaluation freqs for level 1\u001b[0m\n",
      "\u001b[32m2023-04-28 08:12:05.631\u001b[0m | \u001b[1mINFO    \u001b[0m | \u001b[36mresistics.spectra\u001b[0m:\u001b[36mrun\u001b[0m:\u001b[36m682\u001b[0m - \u001b[1mReducing freqs to evaluation freqs for level 2\u001b[0m\n",
      "\u001b[32m2023-04-28 08:12:05.632\u001b[0m | \u001b[1mINFO    \u001b[0m | \u001b[36mresistics.spectra\u001b[0m:\u001b[36mrun\u001b[0m:\u001b[36m682\u001b[0m - \u001b[1mReducing freqs to evaluation freqs for level 3\u001b[0m\n",
      "\u001b[32m2023-04-28 08:12:05.633\u001b[0m | \u001b[1mINFO    \u001b[0m | \u001b[36mresistics.spectra\u001b[0m:\u001b[36mrun\u001b[0m:\u001b[36m695\u001b[0m - \u001b[1mFourier coefficients calculated at evaluation frequencies\u001b[0m\n",
      "\u001b[32m2023-04-28 08:12:05.633\u001b[0m | \u001b[34m\u001b[1mDEBUG   \u001b[0m | \u001b[36mresistics.spectra\u001b[0m:\u001b[36m__init__\u001b[0m:\u001b[36m97\u001b[0m - \u001b[34m\u001b[1mCreating SpectraData with data type complex64\u001b[0m\n"
     ]
    }
   ],
   "source": [
    "spec_data = config.fourier.run(win_data)\n",
    "eval_data = config.evals.run(dec_params, spec_data)"
   ]
  },
  {
   "cell_type": "code",
   "execution_count": 44,
   "metadata": {},
   "outputs": [
    {
     "name": "stderr",
     "output_type": "stream",
     "text": [
      "\u001b[32m2023-04-28 08:12:05.666\u001b[0m | \u001b[1mINFO    \u001b[0m | \u001b[36mresistics.gather\u001b[0m:\u001b[36mrun\u001b[0m:\u001b[36m847\u001b[0m - \u001b[1mQuick gathering data for regression prepartion\u001b[0m\n",
      "\u001b[32m2023-04-28 08:12:05.678\u001b[0m | \u001b[1mINFO    \u001b[0m | \u001b[36mresistics.regression\u001b[0m:\u001b[36mrun\u001b[0m:\u001b[36m388\u001b[0m - \u001b[1mPreparing regression data\u001b[0m\n",
      "\u001b[32m2023-04-28 08:12:05.680\u001b[0m | \u001b[1mINFO    \u001b[0m | \u001b[36mresistics.regression\u001b[0m:\u001b[36mrun\u001b[0m:\u001b[36m389\u001b[0m - \u001b[1mOut chans site: kap123\u001b[0m\n",
      "\u001b[32m2023-04-28 08:12:05.681\u001b[0m | \u001b[1mINFO    \u001b[0m | \u001b[36mresistics.regression\u001b[0m:\u001b[36mrun\u001b[0m:\u001b[36m390\u001b[0m - \u001b[1mOut chans: ['Ex', 'Ey']\u001b[0m\n",
      "\u001b[32m2023-04-28 08:12:05.682\u001b[0m | \u001b[1mINFO    \u001b[0m | \u001b[36mresistics.regression\u001b[0m:\u001b[36mrun\u001b[0m:\u001b[36m391\u001b[0m - \u001b[1mIn chans site: kap123\u001b[0m\n",
      "\u001b[32m2023-04-28 08:12:05.682\u001b[0m | \u001b[1mINFO    \u001b[0m | \u001b[36mresistics.regression\u001b[0m:\u001b[36mrun\u001b[0m:\u001b[36m392\u001b[0m - \u001b[1mIn chans: ['Hx', 'Hy']\u001b[0m\n",
      "\u001b[32m2023-04-28 08:12:05.683\u001b[0m | \u001b[1mINFO    \u001b[0m | \u001b[36mresistics.regression\u001b[0m:\u001b[36mrun\u001b[0m:\u001b[36m393\u001b[0m - \u001b[1mCross chans site: kap123\u001b[0m\n",
      "\u001b[32m2023-04-28 08:12:05.683\u001b[0m | \u001b[1mINFO    \u001b[0m | \u001b[36mresistics.regression\u001b[0m:\u001b[36mrun\u001b[0m:\u001b[36m394\u001b[0m - \u001b[1mCross chans: ['Hx', 'Hy']\u001b[0m\n",
      "\u001b[32m2023-04-28 08:12:05.683\u001b[0m | \u001b[1mINFO    \u001b[0m | \u001b[36mresistics.regression\u001b[0m:\u001b[36m_get_regression_data\u001b[0m:\u001b[36m419\u001b[0m - \u001b[1mPreparing regression data for 20 frequencies\u001b[0m\n",
      "100%|██████████| 20/20 [00:00<00:00, 188.79it/s]\n"
     ]
    }
   ],
   "source": [
    "gathered_data = QuickGather().run(dir_path, dec_params, config.tf, eval_data)\n",
    "reg_data = config.regression_preparer.run(config.tf, gathered_data)"
   ]
  },
  {
   "cell_type": "code",
   "execution_count": 45,
   "metadata": {},
   "outputs": [
    {
     "name": "stderr",
     "output_type": "stream",
     "text": [
      "\u001b[32m2023-04-28 08:12:05.817\u001b[0m | \u001b[1mINFO    \u001b[0m | \u001b[36mresistics.regression\u001b[0m:\u001b[36m_solve\u001b[0m:\u001b[36m782\u001b[0m - \u001b[1mSolving for 20 evaluation frequencies\u001b[0m\n",
      "100%|██████████| 20/20 [00:04<00:00,  4.47it/s]\n"
     ]
    },
    {
     "data": {
      "application/vnd.plotly.v1+json": {
       "config": {
        "plotlyServerURL": "https://plot.ly"
       },
       "data": [
        {
         "legendgroup": "128 - ExHy",
         "line": {
          "color": "red"
         },
         "marker": {
          "color": "red",
          "symbol": "circle"
         },
         "mode": "lines+markers",
         "name": "128 - ExHy",
         "type": "scatter",
         "x": [
          20,
          28.284271247461902,
          40,
          56.568542494923804,
          80,
          113.13708498984761,
          160,
          226.27416997969522,
          320,
          452.54833995939043,
          640,
          905.0966799187809,
          1280,
          1810.1933598375617,
          2560,
          3620.3867196751235,
          5120,
          7240.773439350247,
          10240,
          14481.546878700494
         ],
         "xaxis": "x",
         "y": [
          195.06713387503024,
          370.6728273724801,
          478.64448069408894,
          522.6460396864411,
          559.4333889355754,
          565.6303782094151,
          511.87225266940027,
          430.53247729914574,
          429.1353573440425,
          344.23815177539035,
          298.59858324632097,
          270.48162534012897,
          210.1581085926997,
          194.14534421922622,
          153.09761712185463,
          167.1265105188469,
          171.9932667958956,
          126.28719452840622,
          53.467880317787596,
          64.31740533057675
         ],
         "yaxis": "y"
        },
        {
         "legendgroup": "128 - ExHy",
         "line": {
          "color": "red"
         },
         "marker": {
          "color": "red",
          "symbol": "circle"
         },
         "mode": "lines+markers",
         "name": "128 - ExHy",
         "showlegend": false,
         "type": "scatter",
         "x": [
          20,
          28.284271247461902,
          40,
          56.568542494923804,
          80,
          113.13708498984761,
          160,
          226.27416997969522,
          320,
          452.54833995939043,
          640,
          905.0966799187809,
          1280,
          1810.1933598375617,
          2560,
          3620.3867196751235,
          5120,
          7240.773439350247,
          10240,
          14481.546878700494
         ],
         "xaxis": "x2",
         "y": [
          -148.70097936292035,
          -142.49127680167663,
          -141.91717505521416,
          -135.90841199572955,
          -133.90839827298348,
          -132.06408505278037,
          -127.86484279347908,
          -124.52194498379863,
          -122.80751182908287,
          -120.36802094314052,
          -117.50497398685843,
          -117.55669791869173,
          -115.75580660019337,
          -116.58335833380079,
          -112.05940260285203,
          -110.64772289834819,
          -106.05835807505126,
          -103.12784555880333,
          -85.74675743349904,
          -81.55145653330027
         ],
         "yaxis": "y2"
        },
        {
         "legendgroup": "128 - EyHx",
         "line": {
          "color": "blue"
         },
         "marker": {
          "color": "blue",
          "symbol": "circle"
         },
         "mode": "lines+markers",
         "name": "128 - EyHx",
         "type": "scatter",
         "x": [
          20,
          28.284271247461902,
          40,
          56.568542494923804,
          80,
          113.13708498984761,
          160,
          226.27416997969522,
          320,
          452.54833995939043,
          640,
          905.0966799187809,
          1280,
          1810.1933598375617,
          2560,
          3620.3867196751235,
          5120,
          7240.773439350247,
          10240,
          14481.546878700494
         ],
         "xaxis": "x",
         "y": [
          435.5935328440795,
          404.0855064798107,
          313.199769688985,
          192.14175940759526,
          160.92982426435896,
          129.13441052256522,
          90.9120656760651,
          61.38831060247466,
          51.526870700539625,
          42.36170501060622,
          36.7244746376127,
          29.32563569112102,
          23.412108745527348,
          13.860149651537848,
          9.35703739168726,
          4.007442300380876,
          8.369861465737642,
          2.5981930211557818,
          5.928648380183211,
          5.1230048395854
         ],
         "yaxis": "y"
        },
        {
         "legendgroup": "128 - EyHx",
         "line": {
          "color": "blue"
         },
         "marker": {
          "color": "blue",
          "symbol": "circle"
         },
         "mode": "lines+markers",
         "name": "128 - EyHx",
         "showlegend": false,
         "type": "scatter",
         "x": [
          20,
          28.284271247461902,
          40,
          56.568542494923804,
          80,
          113.13708498984761,
          160,
          226.27416997969522,
          320,
          452.54833995939043,
          640,
          905.0966799187809,
          1280,
          1810.1933598375617,
          2560,
          3620.3867196751235,
          5120,
          7240.773439350247,
          10240,
          14481.546878700494
         ],
         "xaxis": "x2",
         "y": [
          -116.41981308158859,
          -109.0169676855509,
          -102.09851430559077,
          -100.39873759446773,
          -99.1491648133781,
          -99.27060798729799,
          -98.11186265942509,
          -100.30152535958624,
          -102.94755773880445,
          -100.40651708105234,
          -105.99347426847488,
          -102.12331322225315,
          -108.1779755546726,
          -104.24272817733849,
          -105.66669516646003,
          -108.80789653688416,
          -110.55263228993934,
          -102.1294914390219,
          -113.95223036178707,
          -87.9141434383616
         ],
         "yaxis": "y2"
        }
       ],
       "layout": {
        "annotations": [
         {
          "font": {
           "size": 16
          },
          "showarrow": false,
          "text": "Apparent resistivity",
          "x": 0.5,
          "xanchor": "center",
          "xref": "paper",
          "y": 1,
          "yanchor": "bottom",
          "yref": "paper"
         },
         {
          "font": {
           "size": 16
          },
          "showarrow": false,
          "text": "Phase",
          "x": 0.5,
          "xanchor": "center",
          "xref": "paper",
          "y": 0.46,
          "yanchor": "bottom",
          "yref": "paper"
         }
        ],
        "height": 900,
        "margin": {
         "b": 0,
         "l": 0,
         "r": 0,
         "t": 50
        },
        "template": {
         "data": {
          "bar": [
           {
            "error_x": {
             "color": "rgb(36,36,36)"
            },
            "error_y": {
             "color": "rgb(36,36,36)"
            },
            "marker": {
             "line": {
              "color": "rgb(234,234,242)",
              "width": 0.5
             },
             "pattern": {
              "fillmode": "overlay",
              "size": 10,
              "solidity": 0.2
             }
            },
            "type": "bar"
           }
          ],
          "barpolar": [
           {
            "marker": {
             "line": {
              "color": "rgb(234,234,242)",
              "width": 0.5
             },
             "pattern": {
              "fillmode": "overlay",
              "size": 10,
              "solidity": 0.2
             }
            },
            "type": "barpolar"
           }
          ],
          "carpet": [
           {
            "aaxis": {
             "endlinecolor": "rgb(36,36,36)",
             "gridcolor": "white",
             "linecolor": "white",
             "minorgridcolor": "white",
             "startlinecolor": "rgb(36,36,36)"
            },
            "baxis": {
             "endlinecolor": "rgb(36,36,36)",
             "gridcolor": "white",
             "linecolor": "white",
             "minorgridcolor": "white",
             "startlinecolor": "rgb(36,36,36)"
            },
            "type": "carpet"
           }
          ],
          "choropleth": [
           {
            "colorbar": {
             "outlinewidth": 0,
             "tickcolor": "rgb(36,36,36)",
             "ticklen": 8,
             "ticks": "outside",
             "tickwidth": 2
            },
            "type": "choropleth"
           }
          ],
          "contour": [
           {
            "colorbar": {
             "outlinewidth": 0,
             "tickcolor": "rgb(36,36,36)",
             "ticklen": 8,
             "ticks": "outside",
             "tickwidth": 2
            },
            "colorscale": [
             [
              0,
              "rgb(2,4,25)"
             ],
             [
              0.06274509803921569,
              "rgb(24,15,41)"
             ],
             [
              0.12549019607843137,
              "rgb(47,23,57)"
             ],
             [
              0.18823529411764706,
              "rgb(71,28,72)"
             ],
             [
              0.25098039215686274,
              "rgb(97,30,82)"
             ],
             [
              0.3137254901960784,
              "rgb(123,30,89)"
             ],
             [
              0.3764705882352941,
              "rgb(150,27,91)"
             ],
             [
              0.4392156862745098,
              "rgb(177,22,88)"
             ],
             [
              0.5019607843137255,
              "rgb(203,26,79)"
             ],
             [
              0.5647058823529412,
              "rgb(223,47,67)"
             ],
             [
              0.6274509803921569,
              "rgb(236,76,61)"
             ],
             [
              0.6901960784313725,
              "rgb(242,107,73)"
             ],
             [
              0.7529411764705882,
              "rgb(244,135,95)"
             ],
             [
              0.8156862745098039,
              "rgb(245,162,122)"
             ],
             [
              0.8784313725490196,
              "rgb(246,188,153)"
             ],
             [
              0.9411764705882353,
              "rgb(247,212,187)"
             ],
             [
              1,
              "rgb(250,234,220)"
             ]
            ],
            "type": "contour"
           }
          ],
          "contourcarpet": [
           {
            "colorbar": {
             "outlinewidth": 0,
             "tickcolor": "rgb(36,36,36)",
             "ticklen": 8,
             "ticks": "outside",
             "tickwidth": 2
            },
            "type": "contourcarpet"
           }
          ],
          "heatmap": [
           {
            "colorbar": {
             "outlinewidth": 0,
             "tickcolor": "rgb(36,36,36)",
             "ticklen": 8,
             "ticks": "outside",
             "tickwidth": 2
            },
            "colorscale": [
             [
              0,
              "rgb(2,4,25)"
             ],
             [
              0.06274509803921569,
              "rgb(24,15,41)"
             ],
             [
              0.12549019607843137,
              "rgb(47,23,57)"
             ],
             [
              0.18823529411764706,
              "rgb(71,28,72)"
             ],
             [
              0.25098039215686274,
              "rgb(97,30,82)"
             ],
             [
              0.3137254901960784,
              "rgb(123,30,89)"
             ],
             [
              0.3764705882352941,
              "rgb(150,27,91)"
             ],
             [
              0.4392156862745098,
              "rgb(177,22,88)"
             ],
             [
              0.5019607843137255,
              "rgb(203,26,79)"
             ],
             [
              0.5647058823529412,
              "rgb(223,47,67)"
             ],
             [
              0.6274509803921569,
              "rgb(236,76,61)"
             ],
             [
              0.6901960784313725,
              "rgb(242,107,73)"
             ],
             [
              0.7529411764705882,
              "rgb(244,135,95)"
             ],
             [
              0.8156862745098039,
              "rgb(245,162,122)"
             ],
             [
              0.8784313725490196,
              "rgb(246,188,153)"
             ],
             [
              0.9411764705882353,
              "rgb(247,212,187)"
             ],
             [
              1,
              "rgb(250,234,220)"
             ]
            ],
            "type": "heatmap"
           }
          ],
          "heatmapgl": [
           {
            "colorbar": {
             "outlinewidth": 0,
             "tickcolor": "rgb(36,36,36)",
             "ticklen": 8,
             "ticks": "outside",
             "tickwidth": 2
            },
            "colorscale": [
             [
              0,
              "rgb(2,4,25)"
             ],
             [
              0.06274509803921569,
              "rgb(24,15,41)"
             ],
             [
              0.12549019607843137,
              "rgb(47,23,57)"
             ],
             [
              0.18823529411764706,
              "rgb(71,28,72)"
             ],
             [
              0.25098039215686274,
              "rgb(97,30,82)"
             ],
             [
              0.3137254901960784,
              "rgb(123,30,89)"
             ],
             [
              0.3764705882352941,
              "rgb(150,27,91)"
             ],
             [
              0.4392156862745098,
              "rgb(177,22,88)"
             ],
             [
              0.5019607843137255,
              "rgb(203,26,79)"
             ],
             [
              0.5647058823529412,
              "rgb(223,47,67)"
             ],
             [
              0.6274509803921569,
              "rgb(236,76,61)"
             ],
             [
              0.6901960784313725,
              "rgb(242,107,73)"
             ],
             [
              0.7529411764705882,
              "rgb(244,135,95)"
             ],
             [
              0.8156862745098039,
              "rgb(245,162,122)"
             ],
             [
              0.8784313725490196,
              "rgb(246,188,153)"
             ],
             [
              0.9411764705882353,
              "rgb(247,212,187)"
             ],
             [
              1,
              "rgb(250,234,220)"
             ]
            ],
            "type": "heatmapgl"
           }
          ],
          "histogram": [
           {
            "marker": {
             "pattern": {
              "fillmode": "overlay",
              "size": 10,
              "solidity": 0.2
             }
            },
            "type": "histogram"
           }
          ],
          "histogram2d": [
           {
            "colorbar": {
             "outlinewidth": 0,
             "tickcolor": "rgb(36,36,36)",
             "ticklen": 8,
             "ticks": "outside",
             "tickwidth": 2
            },
            "colorscale": [
             [
              0,
              "rgb(2,4,25)"
             ],
             [
              0.06274509803921569,
              "rgb(24,15,41)"
             ],
             [
              0.12549019607843137,
              "rgb(47,23,57)"
             ],
             [
              0.18823529411764706,
              "rgb(71,28,72)"
             ],
             [
              0.25098039215686274,
              "rgb(97,30,82)"
             ],
             [
              0.3137254901960784,
              "rgb(123,30,89)"
             ],
             [
              0.3764705882352941,
              "rgb(150,27,91)"
             ],
             [
              0.4392156862745098,
              "rgb(177,22,88)"
             ],
             [
              0.5019607843137255,
              "rgb(203,26,79)"
             ],
             [
              0.5647058823529412,
              "rgb(223,47,67)"
             ],
             [
              0.6274509803921569,
              "rgb(236,76,61)"
             ],
             [
              0.6901960784313725,
              "rgb(242,107,73)"
             ],
             [
              0.7529411764705882,
              "rgb(244,135,95)"
             ],
             [
              0.8156862745098039,
              "rgb(245,162,122)"
             ],
             [
              0.8784313725490196,
              "rgb(246,188,153)"
             ],
             [
              0.9411764705882353,
              "rgb(247,212,187)"
             ],
             [
              1,
              "rgb(250,234,220)"
             ]
            ],
            "type": "histogram2d"
           }
          ],
          "histogram2dcontour": [
           {
            "colorbar": {
             "outlinewidth": 0,
             "tickcolor": "rgb(36,36,36)",
             "ticklen": 8,
             "ticks": "outside",
             "tickwidth": 2
            },
            "colorscale": [
             [
              0,
              "rgb(2,4,25)"
             ],
             [
              0.06274509803921569,
              "rgb(24,15,41)"
             ],
             [
              0.12549019607843137,
              "rgb(47,23,57)"
             ],
             [
              0.18823529411764706,
              "rgb(71,28,72)"
             ],
             [
              0.25098039215686274,
              "rgb(97,30,82)"
             ],
             [
              0.3137254901960784,
              "rgb(123,30,89)"
             ],
             [
              0.3764705882352941,
              "rgb(150,27,91)"
             ],
             [
              0.4392156862745098,
              "rgb(177,22,88)"
             ],
             [
              0.5019607843137255,
              "rgb(203,26,79)"
             ],
             [
              0.5647058823529412,
              "rgb(223,47,67)"
             ],
             [
              0.6274509803921569,
              "rgb(236,76,61)"
             ],
             [
              0.6901960784313725,
              "rgb(242,107,73)"
             ],
             [
              0.7529411764705882,
              "rgb(244,135,95)"
             ],
             [
              0.8156862745098039,
              "rgb(245,162,122)"
             ],
             [
              0.8784313725490196,
              "rgb(246,188,153)"
             ],
             [
              0.9411764705882353,
              "rgb(247,212,187)"
             ],
             [
              1,
              "rgb(250,234,220)"
             ]
            ],
            "type": "histogram2dcontour"
           }
          ],
          "mesh3d": [
           {
            "colorbar": {
             "outlinewidth": 0,
             "tickcolor": "rgb(36,36,36)",
             "ticklen": 8,
             "ticks": "outside",
             "tickwidth": 2
            },
            "type": "mesh3d"
           }
          ],
          "parcoords": [
           {
            "line": {
             "colorbar": {
              "outlinewidth": 0,
              "tickcolor": "rgb(36,36,36)",
              "ticklen": 8,
              "ticks": "outside",
              "tickwidth": 2
             }
            },
            "type": "parcoords"
           }
          ],
          "pie": [
           {
            "automargin": true,
            "type": "pie"
           }
          ],
          "scatter": [
           {
            "fillpattern": {
             "fillmode": "overlay",
             "size": 10,
             "solidity": 0.2
            },
            "type": "scatter"
           }
          ],
          "scatter3d": [
           {
            "line": {
             "colorbar": {
              "outlinewidth": 0,
              "tickcolor": "rgb(36,36,36)",
              "ticklen": 8,
              "ticks": "outside",
              "tickwidth": 2
             }
            },
            "marker": {
             "colorbar": {
              "outlinewidth": 0,
              "tickcolor": "rgb(36,36,36)",
              "ticklen": 8,
              "ticks": "outside",
              "tickwidth": 2
             }
            },
            "type": "scatter3d"
           }
          ],
          "scattercarpet": [
           {
            "marker": {
             "colorbar": {
              "outlinewidth": 0,
              "tickcolor": "rgb(36,36,36)",
              "ticklen": 8,
              "ticks": "outside",
              "tickwidth": 2
             }
            },
            "type": "scattercarpet"
           }
          ],
          "scattergeo": [
           {
            "marker": {
             "colorbar": {
              "outlinewidth": 0,
              "tickcolor": "rgb(36,36,36)",
              "ticklen": 8,
              "ticks": "outside",
              "tickwidth": 2
             }
            },
            "type": "scattergeo"
           }
          ],
          "scattergl": [
           {
            "marker": {
             "colorbar": {
              "outlinewidth": 0,
              "tickcolor": "rgb(36,36,36)",
              "ticklen": 8,
              "ticks": "outside",
              "tickwidth": 2
             }
            },
            "type": "scattergl"
           }
          ],
          "scattermapbox": [
           {
            "marker": {
             "colorbar": {
              "outlinewidth": 0,
              "tickcolor": "rgb(36,36,36)",
              "ticklen": 8,
              "ticks": "outside",
              "tickwidth": 2
             }
            },
            "type": "scattermapbox"
           }
          ],
          "scatterpolar": [
           {
            "marker": {
             "colorbar": {
              "outlinewidth": 0,
              "tickcolor": "rgb(36,36,36)",
              "ticklen": 8,
              "ticks": "outside",
              "tickwidth": 2
             }
            },
            "type": "scatterpolar"
           }
          ],
          "scatterpolargl": [
           {
            "marker": {
             "colorbar": {
              "outlinewidth": 0,
              "tickcolor": "rgb(36,36,36)",
              "ticklen": 8,
              "ticks": "outside",
              "tickwidth": 2
             }
            },
            "type": "scatterpolargl"
           }
          ],
          "scatterternary": [
           {
            "marker": {
             "colorbar": {
              "outlinewidth": 0,
              "tickcolor": "rgb(36,36,36)",
              "ticklen": 8,
              "ticks": "outside",
              "tickwidth": 2
             }
            },
            "type": "scatterternary"
           }
          ],
          "surface": [
           {
            "colorbar": {
             "outlinewidth": 0,
             "tickcolor": "rgb(36,36,36)",
             "ticklen": 8,
             "ticks": "outside",
             "tickwidth": 2
            },
            "colorscale": [
             [
              0,
              "rgb(2,4,25)"
             ],
             [
              0.06274509803921569,
              "rgb(24,15,41)"
             ],
             [
              0.12549019607843137,
              "rgb(47,23,57)"
             ],
             [
              0.18823529411764706,
              "rgb(71,28,72)"
             ],
             [
              0.25098039215686274,
              "rgb(97,30,82)"
             ],
             [
              0.3137254901960784,
              "rgb(123,30,89)"
             ],
             [
              0.3764705882352941,
              "rgb(150,27,91)"
             ],
             [
              0.4392156862745098,
              "rgb(177,22,88)"
             ],
             [
              0.5019607843137255,
              "rgb(203,26,79)"
             ],
             [
              0.5647058823529412,
              "rgb(223,47,67)"
             ],
             [
              0.6274509803921569,
              "rgb(236,76,61)"
             ],
             [
              0.6901960784313725,
              "rgb(242,107,73)"
             ],
             [
              0.7529411764705882,
              "rgb(244,135,95)"
             ],
             [
              0.8156862745098039,
              "rgb(245,162,122)"
             ],
             [
              0.8784313725490196,
              "rgb(246,188,153)"
             ],
             [
              0.9411764705882353,
              "rgb(247,212,187)"
             ],
             [
              1,
              "rgb(250,234,220)"
             ]
            ],
            "type": "surface"
           }
          ],
          "table": [
           {
            "cells": {
             "fill": {
              "color": "rgb(231,231,240)"
             },
             "line": {
              "color": "white"
             }
            },
            "header": {
             "fill": {
              "color": "rgb(183,183,191)"
             },
             "line": {
              "color": "white"
             }
            },
            "type": "table"
           }
          ]
         },
         "layout": {
          "annotationdefaults": {
           "arrowcolor": "rgb(67,103,167)"
          },
          "autotypenumbers": "strict",
          "coloraxis": {
           "colorbar": {
            "outlinewidth": 0,
            "tickcolor": "rgb(36,36,36)",
            "ticklen": 8,
            "ticks": "outside",
            "tickwidth": 2
           }
          },
          "colorscale": {
           "sequential": [
            [
             0,
             "rgb(2,4,25)"
            ],
            [
             0.06274509803921569,
             "rgb(24,15,41)"
            ],
            [
             0.12549019607843137,
             "rgb(47,23,57)"
            ],
            [
             0.18823529411764706,
             "rgb(71,28,72)"
            ],
            [
             0.25098039215686274,
             "rgb(97,30,82)"
            ],
            [
             0.3137254901960784,
             "rgb(123,30,89)"
            ],
            [
             0.3764705882352941,
             "rgb(150,27,91)"
            ],
            [
             0.4392156862745098,
             "rgb(177,22,88)"
            ],
            [
             0.5019607843137255,
             "rgb(203,26,79)"
            ],
            [
             0.5647058823529412,
             "rgb(223,47,67)"
            ],
            [
             0.6274509803921569,
             "rgb(236,76,61)"
            ],
            [
             0.6901960784313725,
             "rgb(242,107,73)"
            ],
            [
             0.7529411764705882,
             "rgb(244,135,95)"
            ],
            [
             0.8156862745098039,
             "rgb(245,162,122)"
            ],
            [
             0.8784313725490196,
             "rgb(246,188,153)"
            ],
            [
             0.9411764705882353,
             "rgb(247,212,187)"
            ],
            [
             1,
             "rgb(250,234,220)"
            ]
           ],
           "sequentialminus": [
            [
             0,
             "rgb(2,4,25)"
            ],
            [
             0.06274509803921569,
             "rgb(24,15,41)"
            ],
            [
             0.12549019607843137,
             "rgb(47,23,57)"
            ],
            [
             0.18823529411764706,
             "rgb(71,28,72)"
            ],
            [
             0.25098039215686274,
             "rgb(97,30,82)"
            ],
            [
             0.3137254901960784,
             "rgb(123,30,89)"
            ],
            [
             0.3764705882352941,
             "rgb(150,27,91)"
            ],
            [
             0.4392156862745098,
             "rgb(177,22,88)"
            ],
            [
             0.5019607843137255,
             "rgb(203,26,79)"
            ],
            [
             0.5647058823529412,
             "rgb(223,47,67)"
            ],
            [
             0.6274509803921569,
             "rgb(236,76,61)"
            ],
            [
             0.6901960784313725,
             "rgb(242,107,73)"
            ],
            [
             0.7529411764705882,
             "rgb(244,135,95)"
            ],
            [
             0.8156862745098039,
             "rgb(245,162,122)"
            ],
            [
             0.8784313725490196,
             "rgb(246,188,153)"
            ],
            [
             0.9411764705882353,
             "rgb(247,212,187)"
            ],
            [
             1,
             "rgb(250,234,220)"
            ]
           ]
          },
          "colorway": [
           "rgb(76,114,176)",
           "rgb(221,132,82)",
           "rgb(85,168,104)",
           "rgb(196,78,82)",
           "rgb(129,114,179)",
           "rgb(147,120,96)",
           "rgb(218,139,195)",
           "rgb(140,140,140)",
           "rgb(204,185,116)",
           "rgb(100,181,205)"
          ],
          "font": {
           "color": "rgb(36,36,36)"
          },
          "geo": {
           "bgcolor": "white",
           "lakecolor": "white",
           "landcolor": "rgb(234,234,242)",
           "showlakes": true,
           "showland": true,
           "subunitcolor": "white"
          },
          "hoverlabel": {
           "align": "left"
          },
          "hovermode": "closest",
          "paper_bgcolor": "white",
          "plot_bgcolor": "rgb(234,234,242)",
          "polar": {
           "angularaxis": {
            "gridcolor": "white",
            "linecolor": "white",
            "showgrid": true,
            "ticks": ""
           },
           "bgcolor": "rgb(234,234,242)",
           "radialaxis": {
            "gridcolor": "white",
            "linecolor": "white",
            "showgrid": true,
            "ticks": ""
           }
          },
          "scene": {
           "xaxis": {
            "backgroundcolor": "rgb(234,234,242)",
            "gridcolor": "white",
            "gridwidth": 2,
            "linecolor": "white",
            "showbackground": true,
            "showgrid": true,
            "ticks": "",
            "zerolinecolor": "white"
           },
           "yaxis": {
            "backgroundcolor": "rgb(234,234,242)",
            "gridcolor": "white",
            "gridwidth": 2,
            "linecolor": "white",
            "showbackground": true,
            "showgrid": true,
            "ticks": "",
            "zerolinecolor": "white"
           },
           "zaxis": {
            "backgroundcolor": "rgb(234,234,242)",
            "gridcolor": "white",
            "gridwidth": 2,
            "linecolor": "white",
            "showbackground": true,
            "showgrid": true,
            "ticks": "",
            "zerolinecolor": "white"
           }
          },
          "shapedefaults": {
           "fillcolor": "rgb(67,103,167)",
           "line": {
            "width": 0
           },
           "opacity": 0.5
          },
          "ternary": {
           "aaxis": {
            "gridcolor": "white",
            "linecolor": "white",
            "showgrid": true,
            "ticks": ""
           },
           "baxis": {
            "gridcolor": "white",
            "linecolor": "white",
            "showgrid": true,
            "ticks": ""
           },
           "bgcolor": "rgb(234,234,242)",
           "caxis": {
            "gridcolor": "white",
            "linecolor": "white",
            "showgrid": true,
            "ticks": ""
           }
          },
          "xaxis": {
           "automargin": true,
           "gridcolor": "white",
           "linecolor": "white",
           "showgrid": true,
           "ticks": "",
           "title": {
            "standoff": 15
           },
           "zerolinecolor": "white"
          },
          "yaxis": {
           "automargin": true,
           "gridcolor": "white",
           "linecolor": "white",
           "showgrid": true,
           "ticks": "",
           "title": {
            "standoff": 15
           },
           "zerolinecolor": "white"
          }
         }
        },
        "xaxis": {
         "anchor": "y",
         "domain": [
          0,
          1
         ],
         "matches": "x2",
         "range": [
          1,
          5
         ],
         "showticklabels": true,
         "type": "log"
        },
        "xaxis2": {
         "anchor": "y2",
         "domain": [
          0,
          1
         ],
         "showticklabels": true,
         "title": {
          "text": "Period (s)"
         },
         "type": "log"
        },
        "yaxis": {
         "anchor": "x",
         "domain": [
          0.54,
          1
         ],
         "range": [
          0,
          4
         ],
         "title": {
          "text": "App. resistivity (Ohm m)"
         },
         "type": "log"
        },
        "yaxis2": {
         "anchor": "x2",
         "domain": [
          0,
          0.46
         ],
         "title": {
          "text": "Phase (degrees)"
         }
        }
       }
      },
      "text/html": [
       "<div>                            <div id=\"8c7d3c49-ceb2-44ba-95a4-1dc249d888ae\" class=\"plotly-graph-div\" style=\"height:900px; width:100%;\"></div>            <script type=\"text/javascript\">                require([\"plotly\"], function(Plotly) {                    window.PLOTLYENV=window.PLOTLYENV || {};                                    if (document.getElementById(\"8c7d3c49-ceb2-44ba-95a4-1dc249d888ae\")) {                    Plotly.newPlot(                        \"8c7d3c49-ceb2-44ba-95a4-1dc249d888ae\",                        [{\"legendgroup\":\"128 - ExHy\",\"line\":{\"color\":\"red\"},\"marker\":{\"color\":\"red\",\"symbol\":\"circle\"},\"mode\":\"lines+markers\",\"name\":\"128 - ExHy\",\"x\":[20.0,28.284271247461902,40.0,56.568542494923804,80.0,113.13708498984761,160.0,226.27416997969522,320.0,452.54833995939043,640.0,905.0966799187809,1280.0,1810.1933598375617,2560.0,3620.3867196751235,5120.0,7240.773439350247,10240.0,14481.546878700494],\"y\":[195.06713387503024,370.6728273724801,478.64448069408894,522.6460396864411,559.4333889355754,565.6303782094151,511.87225266940027,430.53247729914574,429.1353573440425,344.23815177539035,298.59858324632097,270.48162534012897,210.1581085926997,194.14534421922622,153.09761712185463,167.1265105188469,171.9932667958956,126.28719452840622,53.467880317787596,64.31740533057675],\"type\":\"scatter\",\"xaxis\":\"x\",\"yaxis\":\"y\"},{\"legendgroup\":\"128 - ExHy\",\"line\":{\"color\":\"red\"},\"marker\":{\"color\":\"red\",\"symbol\":\"circle\"},\"mode\":\"lines+markers\",\"name\":\"128 - ExHy\",\"showlegend\":false,\"x\":[20.0,28.284271247461902,40.0,56.568542494923804,80.0,113.13708498984761,160.0,226.27416997969522,320.0,452.54833995939043,640.0,905.0966799187809,1280.0,1810.1933598375617,2560.0,3620.3867196751235,5120.0,7240.773439350247,10240.0,14481.546878700494],\"y\":[-148.70097936292035,-142.49127680167663,-141.91717505521416,-135.90841199572955,-133.90839827298348,-132.06408505278037,-127.86484279347908,-124.52194498379863,-122.80751182908287,-120.36802094314052,-117.50497398685843,-117.55669791869173,-115.75580660019337,-116.58335833380079,-112.05940260285203,-110.64772289834819,-106.05835807505126,-103.12784555880333,-85.74675743349904,-81.55145653330027],\"type\":\"scatter\",\"xaxis\":\"x2\",\"yaxis\":\"y2\"},{\"legendgroup\":\"128 - EyHx\",\"line\":{\"color\":\"blue\"},\"marker\":{\"color\":\"blue\",\"symbol\":\"circle\"},\"mode\":\"lines+markers\",\"name\":\"128 - EyHx\",\"x\":[20.0,28.284271247461902,40.0,56.568542494923804,80.0,113.13708498984761,160.0,226.27416997969522,320.0,452.54833995939043,640.0,905.0966799187809,1280.0,1810.1933598375617,2560.0,3620.3867196751235,5120.0,7240.773439350247,10240.0,14481.546878700494],\"y\":[435.5935328440795,404.0855064798107,313.199769688985,192.14175940759526,160.92982426435896,129.13441052256522,90.9120656760651,61.38831060247466,51.526870700539625,42.36170501060622,36.7244746376127,29.32563569112102,23.412108745527348,13.860149651537848,9.35703739168726,4.007442300380876,8.369861465737642,2.5981930211557818,5.928648380183211,5.1230048395854],\"type\":\"scatter\",\"xaxis\":\"x\",\"yaxis\":\"y\"},{\"legendgroup\":\"128 - EyHx\",\"line\":{\"color\":\"blue\"},\"marker\":{\"color\":\"blue\",\"symbol\":\"circle\"},\"mode\":\"lines+markers\",\"name\":\"128 - EyHx\",\"showlegend\":false,\"x\":[20.0,28.284271247461902,40.0,56.568542494923804,80.0,113.13708498984761,160.0,226.27416997969522,320.0,452.54833995939043,640.0,905.0966799187809,1280.0,1810.1933598375617,2560.0,3620.3867196751235,5120.0,7240.773439350247,10240.0,14481.546878700494],\"y\":[-116.41981308158859,-109.0169676855509,-102.09851430559077,-100.39873759446773,-99.1491648133781,-99.27060798729799,-98.11186265942509,-100.30152535958624,-102.94755773880445,-100.40651708105234,-105.99347426847488,-102.12331322225315,-108.1779755546726,-104.24272817733849,-105.66669516646003,-108.80789653688416,-110.55263228993934,-102.1294914390219,-113.95223036178707,-87.9141434383616],\"type\":\"scatter\",\"xaxis\":\"x2\",\"yaxis\":\"y2\"}],                        {\"template\":{\"data\":{\"barpolar\":[{\"marker\":{\"line\":{\"color\":\"rgb(234,234,242)\",\"width\":0.5},\"pattern\":{\"fillmode\":\"overlay\",\"size\":10,\"solidity\":0.2}},\"type\":\"barpolar\"}],\"bar\":[{\"error_x\":{\"color\":\"rgb(36,36,36)\"},\"error_y\":{\"color\":\"rgb(36,36,36)\"},\"marker\":{\"line\":{\"color\":\"rgb(234,234,242)\",\"width\":0.5},\"pattern\":{\"fillmode\":\"overlay\",\"size\":10,\"solidity\":0.2}},\"type\":\"bar\"}],\"carpet\":[{\"aaxis\":{\"endlinecolor\":\"rgb(36,36,36)\",\"gridcolor\":\"white\",\"linecolor\":\"white\",\"minorgridcolor\":\"white\",\"startlinecolor\":\"rgb(36,36,36)\"},\"baxis\":{\"endlinecolor\":\"rgb(36,36,36)\",\"gridcolor\":\"white\",\"linecolor\":\"white\",\"minorgridcolor\":\"white\",\"startlinecolor\":\"rgb(36,36,36)\"},\"type\":\"carpet\"}],\"choropleth\":[{\"colorbar\":{\"outlinewidth\":0,\"tickcolor\":\"rgb(36,36,36)\",\"ticklen\":8,\"ticks\":\"outside\",\"tickwidth\":2},\"type\":\"choropleth\"}],\"contourcarpet\":[{\"colorbar\":{\"outlinewidth\":0,\"tickcolor\":\"rgb(36,36,36)\",\"ticklen\":8,\"ticks\":\"outside\",\"tickwidth\":2},\"type\":\"contourcarpet\"}],\"contour\":[{\"colorbar\":{\"outlinewidth\":0,\"tickcolor\":\"rgb(36,36,36)\",\"ticklen\":8,\"ticks\":\"outside\",\"tickwidth\":2},\"colorscale\":[[0.0,\"rgb(2,4,25)\"],[0.06274509803921569,\"rgb(24,15,41)\"],[0.12549019607843137,\"rgb(47,23,57)\"],[0.18823529411764706,\"rgb(71,28,72)\"],[0.25098039215686274,\"rgb(97,30,82)\"],[0.3137254901960784,\"rgb(123,30,89)\"],[0.3764705882352941,\"rgb(150,27,91)\"],[0.4392156862745098,\"rgb(177,22,88)\"],[0.5019607843137255,\"rgb(203,26,79)\"],[0.5647058823529412,\"rgb(223,47,67)\"],[0.6274509803921569,\"rgb(236,76,61)\"],[0.6901960784313725,\"rgb(242,107,73)\"],[0.7529411764705882,\"rgb(244,135,95)\"],[0.8156862745098039,\"rgb(245,162,122)\"],[0.8784313725490196,\"rgb(246,188,153)\"],[0.9411764705882353,\"rgb(247,212,187)\"],[1.0,\"rgb(250,234,220)\"]],\"type\":\"contour\"}],\"heatmapgl\":[{\"colorbar\":{\"outlinewidth\":0,\"tickcolor\":\"rgb(36,36,36)\",\"ticklen\":8,\"ticks\":\"outside\",\"tickwidth\":2},\"colorscale\":[[0.0,\"rgb(2,4,25)\"],[0.06274509803921569,\"rgb(24,15,41)\"],[0.12549019607843137,\"rgb(47,23,57)\"],[0.18823529411764706,\"rgb(71,28,72)\"],[0.25098039215686274,\"rgb(97,30,82)\"],[0.3137254901960784,\"rgb(123,30,89)\"],[0.3764705882352941,\"rgb(150,27,91)\"],[0.4392156862745098,\"rgb(177,22,88)\"],[0.5019607843137255,\"rgb(203,26,79)\"],[0.5647058823529412,\"rgb(223,47,67)\"],[0.6274509803921569,\"rgb(236,76,61)\"],[0.6901960784313725,\"rgb(242,107,73)\"],[0.7529411764705882,\"rgb(244,135,95)\"],[0.8156862745098039,\"rgb(245,162,122)\"],[0.8784313725490196,\"rgb(246,188,153)\"],[0.9411764705882353,\"rgb(247,212,187)\"],[1.0,\"rgb(250,234,220)\"]],\"type\":\"heatmapgl\"}],\"heatmap\":[{\"colorbar\":{\"outlinewidth\":0,\"tickcolor\":\"rgb(36,36,36)\",\"ticklen\":8,\"ticks\":\"outside\",\"tickwidth\":2},\"colorscale\":[[0.0,\"rgb(2,4,25)\"],[0.06274509803921569,\"rgb(24,15,41)\"],[0.12549019607843137,\"rgb(47,23,57)\"],[0.18823529411764706,\"rgb(71,28,72)\"],[0.25098039215686274,\"rgb(97,30,82)\"],[0.3137254901960784,\"rgb(123,30,89)\"],[0.3764705882352941,\"rgb(150,27,91)\"],[0.4392156862745098,\"rgb(177,22,88)\"],[0.5019607843137255,\"rgb(203,26,79)\"],[0.5647058823529412,\"rgb(223,47,67)\"],[0.6274509803921569,\"rgb(236,76,61)\"],[0.6901960784313725,\"rgb(242,107,73)\"],[0.7529411764705882,\"rgb(244,135,95)\"],[0.8156862745098039,\"rgb(245,162,122)\"],[0.8784313725490196,\"rgb(246,188,153)\"],[0.9411764705882353,\"rgb(247,212,187)\"],[1.0,\"rgb(250,234,220)\"]],\"type\":\"heatmap\"}],\"histogram2dcontour\":[{\"colorbar\":{\"outlinewidth\":0,\"tickcolor\":\"rgb(36,36,36)\",\"ticklen\":8,\"ticks\":\"outside\",\"tickwidth\":2},\"colorscale\":[[0.0,\"rgb(2,4,25)\"],[0.06274509803921569,\"rgb(24,15,41)\"],[0.12549019607843137,\"rgb(47,23,57)\"],[0.18823529411764706,\"rgb(71,28,72)\"],[0.25098039215686274,\"rgb(97,30,82)\"],[0.3137254901960784,\"rgb(123,30,89)\"],[0.3764705882352941,\"rgb(150,27,91)\"],[0.4392156862745098,\"rgb(177,22,88)\"],[0.5019607843137255,\"rgb(203,26,79)\"],[0.5647058823529412,\"rgb(223,47,67)\"],[0.6274509803921569,\"rgb(236,76,61)\"],[0.6901960784313725,\"rgb(242,107,73)\"],[0.7529411764705882,\"rgb(244,135,95)\"],[0.8156862745098039,\"rgb(245,162,122)\"],[0.8784313725490196,\"rgb(246,188,153)\"],[0.9411764705882353,\"rgb(247,212,187)\"],[1.0,\"rgb(250,234,220)\"]],\"type\":\"histogram2dcontour\"}],\"histogram2d\":[{\"colorbar\":{\"outlinewidth\":0,\"tickcolor\":\"rgb(36,36,36)\",\"ticklen\":8,\"ticks\":\"outside\",\"tickwidth\":2},\"colorscale\":[[0.0,\"rgb(2,4,25)\"],[0.06274509803921569,\"rgb(24,15,41)\"],[0.12549019607843137,\"rgb(47,23,57)\"],[0.18823529411764706,\"rgb(71,28,72)\"],[0.25098039215686274,\"rgb(97,30,82)\"],[0.3137254901960784,\"rgb(123,30,89)\"],[0.3764705882352941,\"rgb(150,27,91)\"],[0.4392156862745098,\"rgb(177,22,88)\"],[0.5019607843137255,\"rgb(203,26,79)\"],[0.5647058823529412,\"rgb(223,47,67)\"],[0.6274509803921569,\"rgb(236,76,61)\"],[0.6901960784313725,\"rgb(242,107,73)\"],[0.7529411764705882,\"rgb(244,135,95)\"],[0.8156862745098039,\"rgb(245,162,122)\"],[0.8784313725490196,\"rgb(246,188,153)\"],[0.9411764705882353,\"rgb(247,212,187)\"],[1.0,\"rgb(250,234,220)\"]],\"type\":\"histogram2d\"}],\"histogram\":[{\"marker\":{\"pattern\":{\"fillmode\":\"overlay\",\"size\":10,\"solidity\":0.2}},\"type\":\"histogram\"}],\"mesh3d\":[{\"colorbar\":{\"outlinewidth\":0,\"tickcolor\":\"rgb(36,36,36)\",\"ticklen\":8,\"ticks\":\"outside\",\"tickwidth\":2},\"type\":\"mesh3d\"}],\"parcoords\":[{\"line\":{\"colorbar\":{\"outlinewidth\":0,\"tickcolor\":\"rgb(36,36,36)\",\"ticklen\":8,\"ticks\":\"outside\",\"tickwidth\":2}},\"type\":\"parcoords\"}],\"pie\":[{\"automargin\":true,\"type\":\"pie\"}],\"scatter3d\":[{\"line\":{\"colorbar\":{\"outlinewidth\":0,\"tickcolor\":\"rgb(36,36,36)\",\"ticklen\":8,\"ticks\":\"outside\",\"tickwidth\":2}},\"marker\":{\"colorbar\":{\"outlinewidth\":0,\"tickcolor\":\"rgb(36,36,36)\",\"ticklen\":8,\"ticks\":\"outside\",\"tickwidth\":2}},\"type\":\"scatter3d\"}],\"scattercarpet\":[{\"marker\":{\"colorbar\":{\"outlinewidth\":0,\"tickcolor\":\"rgb(36,36,36)\",\"ticklen\":8,\"ticks\":\"outside\",\"tickwidth\":2}},\"type\":\"scattercarpet\"}],\"scattergeo\":[{\"marker\":{\"colorbar\":{\"outlinewidth\":0,\"tickcolor\":\"rgb(36,36,36)\",\"ticklen\":8,\"ticks\":\"outside\",\"tickwidth\":2}},\"type\":\"scattergeo\"}],\"scattergl\":[{\"marker\":{\"colorbar\":{\"outlinewidth\":0,\"tickcolor\":\"rgb(36,36,36)\",\"ticklen\":8,\"ticks\":\"outside\",\"tickwidth\":2}},\"type\":\"scattergl\"}],\"scattermapbox\":[{\"marker\":{\"colorbar\":{\"outlinewidth\":0,\"tickcolor\":\"rgb(36,36,36)\",\"ticklen\":8,\"ticks\":\"outside\",\"tickwidth\":2}},\"type\":\"scattermapbox\"}],\"scatterpolargl\":[{\"marker\":{\"colorbar\":{\"outlinewidth\":0,\"tickcolor\":\"rgb(36,36,36)\",\"ticklen\":8,\"ticks\":\"outside\",\"tickwidth\":2}},\"type\":\"scatterpolargl\"}],\"scatterpolar\":[{\"marker\":{\"colorbar\":{\"outlinewidth\":0,\"tickcolor\":\"rgb(36,36,36)\",\"ticklen\":8,\"ticks\":\"outside\",\"tickwidth\":2}},\"type\":\"scatterpolar\"}],\"scatter\":[{\"fillpattern\":{\"fillmode\":\"overlay\",\"size\":10,\"solidity\":0.2},\"type\":\"scatter\"}],\"scatterternary\":[{\"marker\":{\"colorbar\":{\"outlinewidth\":0,\"tickcolor\":\"rgb(36,36,36)\",\"ticklen\":8,\"ticks\":\"outside\",\"tickwidth\":2}},\"type\":\"scatterternary\"}],\"surface\":[{\"colorbar\":{\"outlinewidth\":0,\"tickcolor\":\"rgb(36,36,36)\",\"ticklen\":8,\"ticks\":\"outside\",\"tickwidth\":2},\"colorscale\":[[0.0,\"rgb(2,4,25)\"],[0.06274509803921569,\"rgb(24,15,41)\"],[0.12549019607843137,\"rgb(47,23,57)\"],[0.18823529411764706,\"rgb(71,28,72)\"],[0.25098039215686274,\"rgb(97,30,82)\"],[0.3137254901960784,\"rgb(123,30,89)\"],[0.3764705882352941,\"rgb(150,27,91)\"],[0.4392156862745098,\"rgb(177,22,88)\"],[0.5019607843137255,\"rgb(203,26,79)\"],[0.5647058823529412,\"rgb(223,47,67)\"],[0.6274509803921569,\"rgb(236,76,61)\"],[0.6901960784313725,\"rgb(242,107,73)\"],[0.7529411764705882,\"rgb(244,135,95)\"],[0.8156862745098039,\"rgb(245,162,122)\"],[0.8784313725490196,\"rgb(246,188,153)\"],[0.9411764705882353,\"rgb(247,212,187)\"],[1.0,\"rgb(250,234,220)\"]],\"type\":\"surface\"}],\"table\":[{\"cells\":{\"fill\":{\"color\":\"rgb(231,231,240)\"},\"line\":{\"color\":\"white\"}},\"header\":{\"fill\":{\"color\":\"rgb(183,183,191)\"},\"line\":{\"color\":\"white\"}},\"type\":\"table\"}]},\"layout\":{\"annotationdefaults\":{\"arrowcolor\":\"rgb(67,103,167)\"},\"autotypenumbers\":\"strict\",\"coloraxis\":{\"colorbar\":{\"outlinewidth\":0,\"tickcolor\":\"rgb(36,36,36)\",\"ticklen\":8,\"ticks\":\"outside\",\"tickwidth\":2}},\"colorscale\":{\"sequential\":[[0.0,\"rgb(2,4,25)\"],[0.06274509803921569,\"rgb(24,15,41)\"],[0.12549019607843137,\"rgb(47,23,57)\"],[0.18823529411764706,\"rgb(71,28,72)\"],[0.25098039215686274,\"rgb(97,30,82)\"],[0.3137254901960784,\"rgb(123,30,89)\"],[0.3764705882352941,\"rgb(150,27,91)\"],[0.4392156862745098,\"rgb(177,22,88)\"],[0.5019607843137255,\"rgb(203,26,79)\"],[0.5647058823529412,\"rgb(223,47,67)\"],[0.6274509803921569,\"rgb(236,76,61)\"],[0.6901960784313725,\"rgb(242,107,73)\"],[0.7529411764705882,\"rgb(244,135,95)\"],[0.8156862745098039,\"rgb(245,162,122)\"],[0.8784313725490196,\"rgb(246,188,153)\"],[0.9411764705882353,\"rgb(247,212,187)\"],[1.0,\"rgb(250,234,220)\"]],\"sequentialminus\":[[0.0,\"rgb(2,4,25)\"],[0.06274509803921569,\"rgb(24,15,41)\"],[0.12549019607843137,\"rgb(47,23,57)\"],[0.18823529411764706,\"rgb(71,28,72)\"],[0.25098039215686274,\"rgb(97,30,82)\"],[0.3137254901960784,\"rgb(123,30,89)\"],[0.3764705882352941,\"rgb(150,27,91)\"],[0.4392156862745098,\"rgb(177,22,88)\"],[0.5019607843137255,\"rgb(203,26,79)\"],[0.5647058823529412,\"rgb(223,47,67)\"],[0.6274509803921569,\"rgb(236,76,61)\"],[0.6901960784313725,\"rgb(242,107,73)\"],[0.7529411764705882,\"rgb(244,135,95)\"],[0.8156862745098039,\"rgb(245,162,122)\"],[0.8784313725490196,\"rgb(246,188,153)\"],[0.9411764705882353,\"rgb(247,212,187)\"],[1.0,\"rgb(250,234,220)\"]]},\"colorway\":[\"rgb(76,114,176)\",\"rgb(221,132,82)\",\"rgb(85,168,104)\",\"rgb(196,78,82)\",\"rgb(129,114,179)\",\"rgb(147,120,96)\",\"rgb(218,139,195)\",\"rgb(140,140,140)\",\"rgb(204,185,116)\",\"rgb(100,181,205)\"],\"font\":{\"color\":\"rgb(36,36,36)\"},\"geo\":{\"bgcolor\":\"white\",\"lakecolor\":\"white\",\"landcolor\":\"rgb(234,234,242)\",\"showlakes\":true,\"showland\":true,\"subunitcolor\":\"white\"},\"hoverlabel\":{\"align\":\"left\"},\"hovermode\":\"closest\",\"paper_bgcolor\":\"white\",\"plot_bgcolor\":\"rgb(234,234,242)\",\"polar\":{\"angularaxis\":{\"gridcolor\":\"white\",\"linecolor\":\"white\",\"showgrid\":true,\"ticks\":\"\"},\"bgcolor\":\"rgb(234,234,242)\",\"radialaxis\":{\"gridcolor\":\"white\",\"linecolor\":\"white\",\"showgrid\":true,\"ticks\":\"\"}},\"scene\":{\"xaxis\":{\"backgroundcolor\":\"rgb(234,234,242)\",\"gridcolor\":\"white\",\"gridwidth\":2,\"linecolor\":\"white\",\"showbackground\":true,\"showgrid\":true,\"ticks\":\"\",\"zerolinecolor\":\"white\"},\"yaxis\":{\"backgroundcolor\":\"rgb(234,234,242)\",\"gridcolor\":\"white\",\"gridwidth\":2,\"linecolor\":\"white\",\"showbackground\":true,\"showgrid\":true,\"ticks\":\"\",\"zerolinecolor\":\"white\"},\"zaxis\":{\"backgroundcolor\":\"rgb(234,234,242)\",\"gridcolor\":\"white\",\"gridwidth\":2,\"linecolor\":\"white\",\"showbackground\":true,\"showgrid\":true,\"ticks\":\"\",\"zerolinecolor\":\"white\"}},\"shapedefaults\":{\"fillcolor\":\"rgb(67,103,167)\",\"line\":{\"width\":0},\"opacity\":0.5},\"ternary\":{\"aaxis\":{\"gridcolor\":\"white\",\"linecolor\":\"white\",\"showgrid\":true,\"ticks\":\"\"},\"baxis\":{\"gridcolor\":\"white\",\"linecolor\":\"white\",\"showgrid\":true,\"ticks\":\"\"},\"bgcolor\":\"rgb(234,234,242)\",\"caxis\":{\"gridcolor\":\"white\",\"linecolor\":\"white\",\"showgrid\":true,\"ticks\":\"\"}},\"xaxis\":{\"automargin\":true,\"gridcolor\":\"white\",\"linecolor\":\"white\",\"showgrid\":true,\"ticks\":\"\",\"title\":{\"standoff\":15},\"zerolinecolor\":\"white\"},\"yaxis\":{\"automargin\":true,\"gridcolor\":\"white\",\"linecolor\":\"white\",\"showgrid\":true,\"ticks\":\"\",\"title\":{\"standoff\":15},\"zerolinecolor\":\"white\"}}},\"xaxis\":{\"anchor\":\"y\",\"domain\":[0.0,1.0],\"matches\":\"x2\",\"showticklabels\":true,\"type\":\"log\",\"range\":[1,5]},\"yaxis\":{\"anchor\":\"x\",\"domain\":[0.54,1.0],\"title\":{\"text\":\"App. resistivity (Ohm m)\"},\"type\":\"log\",\"range\":[0,4]},\"xaxis2\":{\"anchor\":\"y2\",\"domain\":[0.0,1.0],\"title\":{\"text\":\"Period (s)\"},\"type\":\"log\",\"showticklabels\":true},\"yaxis2\":{\"anchor\":\"x2\",\"domain\":[0.0,0.46],\"title\":{\"text\":\"Phase (degrees)\"}},\"annotations\":[{\"font\":{\"size\":16},\"showarrow\":false,\"text\":\"Apparent resistivity\",\"x\":0.5,\"xanchor\":\"center\",\"xref\":\"paper\",\"y\":1.0,\"yanchor\":\"bottom\",\"yref\":\"paper\"},{\"font\":{\"size\":16},\"showarrow\":false,\"text\":\"Phase\",\"x\":0.5,\"xanchor\":\"center\",\"xref\":\"paper\",\"y\":0.46,\"yanchor\":\"bottom\",\"yref\":\"paper\"}],\"margin\":{\"l\":0,\"r\":0,\"b\":0,\"t\":50},\"height\":900},                        {\"responsive\": true}                    ).then(function(){\n",
       "                            \n",
       "var gd = document.getElementById('8c7d3c49-ceb2-44ba-95a4-1dc249d888ae');\n",
       "var x = new MutationObserver(function (mutations, observer) {{\n",
       "        var display = window.getComputedStyle(gd).display;\n",
       "        if (!display || display === 'none') {{\n",
       "            console.log([gd, 'removed!']);\n",
       "            Plotly.purge(gd);\n",
       "            observer.disconnect();\n",
       "        }}\n",
       "}});\n",
       "\n",
       "// Listen for the removal of the full notebook cells\n",
       "var notebookContainer = gd.closest('#notebook-container');\n",
       "if (notebookContainer) {{\n",
       "    x.observe(notebookContainer, {childList: true});\n",
       "}}\n",
       "\n",
       "// Listen for the clearing of the current output cell\n",
       "var outputEl = gd.closest('.output');\n",
       "if (outputEl) {{\n",
       "    x.observe(outputEl, {childList: true});\n",
       "}}\n",
       "\n",
       "                        })                };                });            </script>        </div>"
      ]
     },
     "metadata": {},
     "output_type": "display_data"
    }
   ],
   "source": [
    "soln = config.solver.run(reg_data)\n",
    "fig = soln.tf.plot(\n",
    "    soln.freqs,\n",
    "    soln.components,\n",
    "    to_plot=[\"ExHy\", \"EyHx\"],\n",
    "    x_lim=[1, 5],\n",
    "    res_lim=[0, 4],\n",
    "    legend=\"128\",\n",
    "    symbol=\"circle\",\n",
    ")\n",
    "fig.update_layout(height=900)\n",
    "fig.show()"
   ]
  }
 ],
 "metadata": {
  "kernelspec": {
   "display_name": "resistics-b-6cR9vn-py3.10",
   "language": "python",
   "name": "python3"
  },
  "language_info": {
   "codemirror_mode": {
    "name": "ipython",
    "version": 3
   },
   "file_extension": ".py",
   "mimetype": "text/x-python",
   "name": "python",
   "nbconvert_exporter": "python",
   "pygments_lexer": "ipython3",
   "version": "3.10.6"
  },
  "orig_nbformat": 4
 },
 "nbformat": 4,
 "nbformat_minor": 2
}
