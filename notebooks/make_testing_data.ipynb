{
 "cells": [
  {
   "attachments": {},
   "cell_type": "markdown",
   "metadata": {},
   "source": [
    "Create testing data for 10 evaluation frequencies"
   ]
  },
  {
   "cell_type": "code",
   "execution_count": 71,
   "metadata": {},
   "outputs": [],
   "source": [
    "from pathlib import Path\n",
    "import numpy as np\n",
    "import pandas as pd\n",
    "import pandas.testing as pdt\n",
    "from resistics.testing import time_metadata_mt\n",
    "from resistics.decimate import get_eval_freqs_size, DecimationSetup\n",
    "from resistics.spectra import SpectraLevelMetadata, SpectraMetadata, SpectraData\n",
    "from resistics.gather import QuickGather\n",
    "from resistics.transfunc import ImpedanceTensor\n",
    "from resistics.regression import RegressionPreparerGathered, SolverScikitOLS\n",
    "\n",
    "np.random.seed(42)"
   ]
  },
  {
   "attachments": {},
   "cell_type": "markdown",
   "metadata": {},
   "source": [
    "Need to generate:\n",
    "- Values for the components of the impedance tensor for a given number of evaluation frequencies\n",
    "- Values for the regressors, Hx and Hy\n",
    "Using this, can calculate values for the observations Ex and Ey"
   ]
  },
  {
   "cell_type": "code",
   "execution_count": 72,
   "metadata": {},
   "outputs": [],
   "source": [
    "def rand_complex(low: int, high: int) -> complex:\n",
    "    \"\"\"Generate a random complex number that is integer\"\"\"\n",
    "    return complex(np.random.randint(low, high), np.random.randint(low, high))\n",
    "\n",
    "\n",
    "# evaluation frequencies\n",
    "fs = 256\n",
    "n_evals = 10\n",
    "n_levels = 2\n",
    "n_wins = 50\n",
    "if n_evals % n_levels != 0:\n",
    "    raise ValueError(f\"{n_evals=} not divisible by {n_levels=}\")\n",
    "per_level = n_evals // n_levels\n",
    "eval_freqs = get_eval_freqs_size(fs, n_evals)\n",
    "\n"
   ]
  },
  {
   "attachments": {},
   "cell_type": "markdown",
   "metadata": {},
   "source": [
    "Calculate the decimation paramters"
   ]
  },
  {
   "cell_type": "code",
   "execution_count": 73,
   "metadata": {},
   "outputs": [
    {
     "name": "stdout",
     "output_type": "stream",
     "text": [
      "{\n",
      "    'fs': 256.0,\n",
      "    'n_levels': 2,\n",
      "    'per_level': 5,\n",
      "    'min_samples': 256,\n",
      "    'eval_freqs': [\n",
      "        64.0,\n",
      "        45.25483399593904,\n",
      "        32.0,\n",
      "        22.62741699796952,\n",
      "        16.0,\n",
      "        11.31370849898476,\n",
      "        8.0,\n",
      "        5.65685424949238,\n",
      "        4.0,\n",
      "        2.82842712474619\n",
      "    ],\n",
      "    'dec_factors': [1, 4],\n",
      "    'dec_increments': [1, 4],\n",
      "    'dec_fs': [256.0, 64.0]\n",
      "}\n"
     ]
    }
   ],
   "source": [
    "dec_setup = DecimationSetup(\n",
    "    n_levels=n_levels, per_level=per_level, eval_freqs=eval_freqs.tolist()\n",
    ")\n",
    "dec_params = dec_setup.run(fs)\n",
    "dec_params.summary()\n"
   ]
  },
  {
   "cell_type": "code",
   "execution_count": 74,
   "metadata": {},
   "outputs": [
    {
     "name": "stdout",
     "output_type": "stream",
     "text": [
      "0 [64.0, 45.25483399593904, 32.0, 22.62741699796952, 16.0]\n",
      "1 [11.31370849898476, 8.0, 5.65685424949238, 4.0, 2.82842712474619]\n"
     ]
    }
   ],
   "source": [
    "levels_fs = dec_params.dec_fs\n",
    "eval_freqs_for_levels = {}\n",
    "for ilevel in range(n_levels):\n",
    "    eval_freqs_for_levels[ilevel] = dec_params.get_eval_freqs(ilevel)\n",
    "\n",
    "for ilevel, freqs in eval_freqs_for_levels.items():\n",
    "    print(ilevel, freqs)"
   ]
  },
  {
   "attachments": {},
   "cell_type": "markdown",
   "metadata": {},
   "source": [
    "Generate the expected outputs"
   ]
  },
  {
   "cell_type": "code",
   "execution_count": 75,
   "metadata": {},
   "outputs": [
    {
     "name": "stdout",
     "output_type": "stream",
     "text": [
      "                ExHx       ExHy      EyHx       EyHy\n",
      "64.000000  -4.0+9.0j   4.0+0.0j -3.0-4.0j   8.0+0.0j\n",
      "45.254834   0.0-7.0j  -3.0-8.0j -9.0+1.0j  -5.0-9.0j\n",
      "32.000000 -10.0+1.0j   1.0+6.0j -1.0+5.0j   4.0+4.0j\n",
      "22.627417   8.0+1.0j   9.0-8.0j -6.0+8.0j  -4.0-2.0j\n",
      "16.000000  -4.0+7.0j  -7.0+3.0j  7.0-2.0j  -9.0+9.0j\n",
      "11.313708   4.0-4.0j   1.0-3.0j  4.0-8.0j   3.0+6.0j\n",
      "8.000000   -7.0+7.0j  -3.0-7.0j -9.0-5.0j  -1.0-7.0j\n",
      "5.656854    7.0+1.0j  -9.0-1.0j -7.0+3.0j   5.0+4.0j\n",
      "4.000000   -3.0+3.0j  -3.0+5.0j  2.0+7.0j   4.0+2.0j\n",
      "2.828427   -2.0+4.0j  2.0-10.0j -4.0-2.0j -10.0+1.0j\n"
     ]
    }
   ],
   "source": [
    "# tensor components\n",
    "components = [\"ExHx\", \"ExHy\", \"EyHx\", \"EyHy\"]\n",
    "temp = []\n",
    "# calculate some values\n",
    "for ifreq in range(n_evals):\n",
    "    f_c = {comp: rand_complex(-10, 10) for comp in components}\n",
    "    temp.append(f_c)\n",
    "tensor = pd.DataFrame.from_records(temp)\n",
    "tensor.index = eval_freqs\n",
    "print(tensor)\n"
   ]
  },
  {
   "attachments": {},
   "cell_type": "markdown",
   "metadata": {},
   "source": [
    "Create the data for the evaluation frequencies"
   ]
  },
  {
   "cell_type": "code",
   "execution_count": 76,
   "metadata": {},
   "outputs": [
    {
     "name": "stdout",
     "output_type": "stream",
     "text": [
      "(50, 4, 10)\n"
     ]
    }
   ],
   "source": [
    "chans = [\"Hx\", \"Hy\", \"Ex\", \"Ey\"]\n",
    "n_chans = len(chans)\n",
    "low = -10\n",
    "high = 10\n",
    "data_array = np.empty((n_evals, n_chans, n_wins), dtype=np.complex128)\n",
    "for ifreq in range(n_evals):\n",
    "    Hx = np.random.randint(low=low, high=high, size=n_wins)\n",
    "    Hy = np.random.randint(low=low, high=high, size=n_wins)\n",
    "    Ex = (\n",
    "        tensor.loc[eval_freqs[ifreq], \"ExHx\"] * Hx\n",
    "        + tensor.loc[eval_freqs[ifreq], \"ExHy\"] * Hy\n",
    "    )\n",
    "    Ey = (\n",
    "        tensor.loc[eval_freqs[ifreq], \"EyHx\"] * Hx\n",
    "        + tensor.loc[eval_freqs[ifreq], \"EyHy\"] * Hy\n",
    "    )\n",
    "    data_array[ifreq] = np.array([Hx, Hy, Ex, Ey])\n",
    "# transpose so we have the following shape \n",
    "# n_wins, n_chans, per_level\n",
    "data_array = data_array.transpose()\n",
    "print(data_array.shape)\n",
    "\n"
   ]
  },
  {
   "attachments": {},
   "cell_type": "markdown",
   "metadata": {},
   "source": [
    "Get the data in the right shape. For each decimation level. This should be:\n",
    "\n",
    "n_wins x n_chans x n_freqs"
   ]
  },
  {
   "cell_type": "code",
   "execution_count": 77,
   "metadata": {},
   "outputs": [
    {
     "name": "stdout",
     "output_type": "stream",
     "text": [
      "(50, 4, 5)\n",
      "(50, 4, 5)\n"
     ]
    }
   ],
   "source": [
    "data = {}\n",
    "for ilevel in range(n_levels):\n",
    "    istart = ilevel * per_level\n",
    "    iend = istart + per_level\n",
    "    data[ilevel] = data_array[...,istart:iend]\n",
    "    print(data[ilevel].shape)"
   ]
  },
  {
   "attachments": {},
   "cell_type": "markdown",
   "metadata": {},
   "source": [
    "Now let's put this in evaluation frequency object, which is a SpectraData object"
   ]
  },
  {
   "cell_type": "code",
   "execution_count": 78,
   "metadata": {},
   "outputs": [
    {
     "name": "stdout",
     "output_type": "stream",
     "text": [
      "{\n",
      "    'fs': 256.0,\n",
      "    'n_wins': 50,\n",
      "    'win_size': 20,\n",
      "    'olap_size': 5,\n",
      "    'index_offset': 0,\n",
      "    'n_freqs': 5,\n",
      "    'freqs': [64.0, 45.25483399593904, 32.0, 22.62741699796952, 16.0]\n",
      "}\n",
      "{\n",
      "    'fs': 64.0,\n",
      "    'n_wins': 50,\n",
      "    'win_size': 20,\n",
      "    'olap_size': 5,\n",
      "    'index_offset': 0,\n",
      "    'n_freqs': 5,\n",
      "    'freqs': [\n",
      "        11.31370849898476,\n",
      "        8.0,\n",
      "        5.65685424949238,\n",
      "        4.0,\n",
      "        2.82842712474619\n",
      "    ]\n",
      "}\n"
     ]
    }
   ],
   "source": [
    "# create the levels metadata\n",
    "levels_metadata = []\n",
    "for ilevel, level_fs in enumerate(levels_fs):\n",
    "    levels_metadata.append(\n",
    "        SpectraLevelMetadata(\n",
    "            fs=level_fs,\n",
    "            n_wins=n_wins,\n",
    "            win_size=20,\n",
    "            olap_size=5,\n",
    "            index_offset=0,\n",
    "            n_freqs=per_level,\n",
    "            freqs=eval_freqs_for_levels[ilevel],\n",
    "        )\n",
    "    )\n",
    "    levels_metadata[-1].summary()\n"
   ]
  },
  {
   "attachments": {},
   "cell_type": "markdown",
   "metadata": {},
   "source": [
    "Make the SpectraMetadata"
   ]
  },
  {
   "cell_type": "code",
   "execution_count": 79,
   "metadata": {},
   "outputs": [
    {
     "name": "stdout",
     "output_type": "stream",
     "text": [
      "{\n",
      "    'file_info': None,\n",
      "    'fs': [256.0, 64.0],\n",
      "    'chans': ['Hx', 'Hy', 'Ex', 'Ey'],\n",
      "    'n_chans': 4,\n",
      "    'n_levels': 2,\n",
      "    'first_time': '2020-01-01 00:00:00.000000_000000_000000_000000',\n",
      "    'last_time': '2020-01-01 00:00:01.000000_000000_000000_000000',\n",
      "    'system': '',\n",
      "    'serial': '',\n",
      "    'wgs84_latitude': -999.0,\n",
      "    'wgs84_longitude': -999.0,\n",
      "    'easting': -999.0,\n",
      "    'northing': -999.0,\n",
      "    'elevation': -999.0,\n",
      "    'chans_metadata': {\n",
      "        'Ex': {\n",
      "            'name': 'Ex',\n",
      "            'data_files': ['Ex.ascii'],\n",
      "            'chan_type': 'electric',\n",
      "            'chan_source': None,\n",
      "            'sensor': '',\n",
      "            'serial': '',\n",
      "            'gain1': 1.0,\n",
      "            'gain2': 1.0,\n",
      "            'scaling': 1.0,\n",
      "            'chopper': False,\n",
      "            'dipole_dist': 1.0,\n",
      "            'sensor_calibration_file': '',\n",
      "            'instrument_calibration_file': ''\n",
      "        },\n",
      "        'Ey': {\n",
      "            'name': 'Ey',\n",
      "            'data_files': ['Ex.ascii'],\n",
      "            'chan_type': 'electric',\n",
      "            'chan_source': None,\n",
      "            'sensor': '',\n",
      "            'serial': '',\n",
      "            'gain1': 1.0,\n",
      "            'gain2': 1.0,\n",
      "            'scaling': 1.0,\n",
      "            'chopper': False,\n",
      "            'dipole_dist': 1.0,\n",
      "            'sensor_calibration_file': '',\n",
      "            'instrument_calibration_file': ''\n",
      "        },\n",
      "        'Hx': {\n",
      "            'name': 'Hx',\n",
      "            'data_files': ['Ex.ascii'],\n",
      "            'chan_type': 'magnetic',\n",
      "            'chan_source': None,\n",
      "            'sensor': '',\n",
      "            'serial': '',\n",
      "            'gain1': 1.0,\n",
      "            'gain2': 1.0,\n",
      "            'scaling': 1.0,\n",
      "            'chopper': False,\n",
      "            'dipole_dist': 1.0,\n",
      "            'sensor_calibration_file': '',\n",
      "            'instrument_calibration_file': ''\n",
      "        },\n",
      "        'Hy': {\n",
      "            'name': 'Hy',\n",
      "            'data_files': ['Ex.ascii'],\n",
      "            'chan_type': 'magnetic',\n",
      "            'chan_source': None,\n",
      "            'sensor': '',\n",
      "            'serial': '',\n",
      "            'gain1': 1.0,\n",
      "            'gain2': 1.0,\n",
      "            'scaling': 1.0,\n",
      "            'chopper': False,\n",
      "            'dipole_dist': 1.0,\n",
      "            'sensor_calibration_file': '',\n",
      "            'instrument_calibration_file': ''\n",
      "        }\n",
      "    },\n",
      "    'levels_metadata': [\n",
      "        {\n",
      "            'fs': 256.0,\n",
      "            'n_wins': 50,\n",
      "            'win_size': 20,\n",
      "            'olap_size': 5,\n",
      "            'index_offset': 0,\n",
      "            'n_freqs': 5,\n",
      "            'freqs': [64.0, 45.25483399593904, 32.0, 22.62741699796952, 16.0]\n",
      "        },\n",
      "        {\n",
      "            'fs': 64.0,\n",
      "            'n_wins': 50,\n",
      "            'win_size': 20,\n",
      "            'olap_size': 5,\n",
      "            'index_offset': 0,\n",
      "            'n_freqs': 5,\n",
      "            'freqs': [\n",
      "                11.31370849898476,\n",
      "                8.0,\n",
      "                5.65685424949238,\n",
      "                4.0,\n",
      "                2.82842712474619\n",
      "            ]\n",
      "        }\n",
      "    ],\n",
      "    'ref_time': '2020-01-01 00:00:00.000000_000000_000000_000000',\n",
      "    'history': {'records': []}\n",
      "}\n"
     ]
    }
   ],
   "source": [
    "metadata_dict = time_metadata_mt().dict()\n",
    "metadata_dict[\"chans\"] = chans\n",
    "metadata_dict[\"fs\"] = levels_fs\n",
    "metadata_dict[\"n_levels\"] = len(levels_metadata)\n",
    "metadata_dict[\"levels_metadata\"] = levels_metadata\n",
    "metadata_dict[\"ref_time\"] = metadata_dict[\"first_time\"]\n",
    "spec_metadata = SpectraMetadata(**metadata_dict)\n",
    "spec_metadata.summary()"
   ]
  },
  {
   "attachments": {},
   "cell_type": "markdown",
   "metadata": {},
   "source": [
    "Make the SpectraData"
   ]
  },
  {
   "cell_type": "code",
   "execution_count": 80,
   "metadata": {},
   "outputs": [
    {
     "name": "stderr",
     "output_type": "stream",
     "text": [
      "\u001b[32m2023-04-28 14:58:10.104\u001b[0m | \u001b[34m\u001b[1mDEBUG   \u001b[0m | \u001b[36mresistics.spectra\u001b[0m:\u001b[36m__init__\u001b[0m:\u001b[36m97\u001b[0m - \u001b[34m\u001b[1mCreating SpectraData with data type complex128\u001b[0m\n"
     ]
    }
   ],
   "source": [
    "spec_data = SpectraData(spec_metadata, data)\n"
   ]
  },
  {
   "cell_type": "code",
   "execution_count": 81,
   "metadata": {},
   "outputs": [
    {
     "name": "stderr",
     "output_type": "stream",
     "text": [
      "\u001b[32m2023-04-28 14:58:10.128\u001b[0m | \u001b[1mINFO    \u001b[0m | \u001b[36mresistics.gather\u001b[0m:\u001b[36mrun\u001b[0m:\u001b[36m847\u001b[0m - \u001b[1mQuick gathering data for regression prepartion\u001b[0m\n"
     ]
    }
   ],
   "source": [
    "dir_path = Path(\"check\")\n",
    "tf = ImpedanceTensor()\n",
    "gathered_data = QuickGather().run(dir_path, dec_params, tf, spec_data)"
   ]
  },
  {
   "attachments": {},
   "cell_type": "markdown",
   "metadata": {},
   "source": [
    "Now do the regression and check the results"
   ]
  },
  {
   "cell_type": "code",
   "execution_count": 82,
   "metadata": {},
   "outputs": [
    {
     "name": "stderr",
     "output_type": "stream",
     "text": [
      "\u001b[32m2023-04-28 14:58:10.156\u001b[0m | \u001b[1mINFO    \u001b[0m | \u001b[36mresistics.regression\u001b[0m:\u001b[36mrun\u001b[0m:\u001b[36m388\u001b[0m - \u001b[1mPreparing regression data\u001b[0m\n",
      "\u001b[32m2023-04-28 14:58:10.157\u001b[0m | \u001b[1mINFO    \u001b[0m | \u001b[36mresistics.regression\u001b[0m:\u001b[36mrun\u001b[0m:\u001b[36m389\u001b[0m - \u001b[1mOut chans site: check\u001b[0m\n",
      "\u001b[32m2023-04-28 14:58:10.158\u001b[0m | \u001b[1mINFO    \u001b[0m | \u001b[36mresistics.regression\u001b[0m:\u001b[36mrun\u001b[0m:\u001b[36m390\u001b[0m - \u001b[1mOut chans: ['Ex', 'Ey']\u001b[0m\n",
      "\u001b[32m2023-04-28 14:58:10.158\u001b[0m | \u001b[1mINFO    \u001b[0m | \u001b[36mresistics.regression\u001b[0m:\u001b[36mrun\u001b[0m:\u001b[36m391\u001b[0m - \u001b[1mIn chans site: check\u001b[0m\n",
      "\u001b[32m2023-04-28 14:58:10.159\u001b[0m | \u001b[1mINFO    \u001b[0m | \u001b[36mresistics.regression\u001b[0m:\u001b[36mrun\u001b[0m:\u001b[36m392\u001b[0m - \u001b[1mIn chans: ['Hx', 'Hy']\u001b[0m\n",
      "\u001b[32m2023-04-28 14:58:10.159\u001b[0m | \u001b[1mINFO    \u001b[0m | \u001b[36mresistics.regression\u001b[0m:\u001b[36mrun\u001b[0m:\u001b[36m393\u001b[0m - \u001b[1mCross chans site: check\u001b[0m\n",
      "\u001b[32m2023-04-28 14:58:10.160\u001b[0m | \u001b[1mINFO    \u001b[0m | \u001b[36mresistics.regression\u001b[0m:\u001b[36mrun\u001b[0m:\u001b[36m394\u001b[0m - \u001b[1mCross chans: ['Hx', 'Hy']\u001b[0m\n",
      "\u001b[32m2023-04-28 14:58:10.160\u001b[0m | \u001b[1mINFO    \u001b[0m | \u001b[36mresistics.regression\u001b[0m:\u001b[36m_get_regression_data\u001b[0m:\u001b[36m419\u001b[0m - \u001b[1mPreparing regression data for 10 frequencies\u001b[0m\n",
      "100%|██████████| 10/10 [00:00<00:00, 3962.87it/s]\n"
     ]
    }
   ],
   "source": [
    "reg_data = RegressionPreparerGathered().run(tf, gathered_data)\n"
   ]
  },
  {
   "cell_type": "code",
   "execution_count": 85,
   "metadata": {},
   "outputs": [
    {
     "name": "stderr",
     "output_type": "stream",
     "text": [
      "\u001b[32m2023-04-28 14:59:41.666\u001b[0m | \u001b[1mINFO    \u001b[0m | \u001b[36mresistics.regression\u001b[0m:\u001b[36m_solve\u001b[0m:\u001b[36m782\u001b[0m - \u001b[1mSolving for 10 evaluation frequencies\u001b[0m\n",
      "100%|██████████| 10/10 [00:00<00:00, 1243.79it/s]"
     ]
    },
    {
     "name": "stdout",
     "output_type": "stream",
     "text": [
      "{\n",
      "    'file_info': None,\n",
      "    'tf': {\n",
      "        'name': 'ImpedanceTensor',\n",
      "        'variation': 'default',\n",
      "        'out_chans': ['Ex', 'Ey'],\n",
      "        'in_chans': ['Hx', 'Hy'],\n",
      "        'cross_chans': ['Hx', 'Hy'],\n",
      "        'n_out': 2,\n",
      "        'n_in': 2,\n",
      "        'n_cross': 2\n",
      "    },\n",
      "    'freqs': [\n",
      "        64.0,\n",
      "        45.25483399593904,\n",
      "        32.0,\n",
      "        22.62741699796952,\n",
      "        16.0,\n",
      "        11.31370849898476,\n",
      "        8.0,\n",
      "        5.65685424949238,\n",
      "        4.0,\n",
      "        2.82842712474619\n",
      "    ],\n",
      "    'components': {\n",
      "        'ExHx': {\n",
      "            'real': [\n",
      "                -4.0,\n",
      "                -7.995730771937587e-16,\n",
      "                -10.000000000000009,\n",
      "                8.000000000000004,\n",
      "                -4.000000000000002,\n",
      "                4.000000000000001,\n",
      "                -6.999999999999999,\n",
      "                7.0,\n",
      "                -3.0000000000000004,\n",
      "                -2.0000000000000013\n",
      "            ],\n",
      "            'imag': [\n",
      "                9.000000000000002,\n",
      "                -6.9999999999999964,\n",
      "                0.9999999999999989,\n",
      "                1.0000000000000009,\n",
      "                7.000000000000001,\n",
      "                -4.0,\n",
      "                6.999999999999997,\n",
      "                0.9999999999999982,\n",
      "                3.0000000000000018,\n",
      "                4.000000000000003\n",
      "            ]\n",
      "        },\n",
      "        'ExHy': {\n",
      "            'real': [\n",
      "                4.0,\n",
      "                -3.0000000000000018,\n",
      "                1.0000000000000004,\n",
      "                8.999999999999998,\n",
      "                -6.999999999999998,\n",
      "                1.0000000000000009,\n",
      "                -3.000000000000001,\n",
      "                -9.000000000000004,\n",
      "                -2.9999999999999982,\n",
      "                2.0\n",
      "            ],\n",
      "            'imag': [\n",
      "                2.618962405215184e-16,\n",
      "                -8.000000000000002,\n",
      "                5.999999999999999,\n",
      "                -8.0,\n",
      "                3.000000000000001,\n",
      "                -3.0000000000000004,\n",
      "                -6.999999999999998,\n",
      "                -1.0000000000000004,\n",
      "                4.9999999999999964,\n",
      "                -10.000000000000004\n",
      "            ]\n",
      "        },\n",
      "        'EyHx': {\n",
      "            'real': [\n",
      "                -3.000000000000001,\n",
      "                -9.000000000000002,\n",
      "                -1.000000000000001,\n",
      "                -6.000000000000003,\n",
      "                7.000000000000002,\n",
      "                4.0,\n",
      "                -8.999999999999996,\n",
      "                -7.0000000000000036,\n",
      "                2.000000000000002,\n",
      "                -4.000000000000001\n",
      "            ],\n",
      "            'imag': [\n",
      "                -4.0,\n",
      "                0.9999999999999991,\n",
      "                5.000000000000001,\n",
      "                8.0,\n",
      "                -2.0000000000000018,\n",
      "                -8.000000000000002,\n",
      "                -5.000000000000002,\n",
      "                3.000000000000002,\n",
      "                7.000000000000003,\n",
      "                -2.0\n",
      "            ]\n",
      "        },\n",
      "        'EyHy': {\n",
      "            'real': [\n",
      "                8.000000000000002,\n",
      "                -5.000000000000003,\n",
      "                3.9999999999999982,\n",
      "                -4.0,\n",
      "                -9.0,\n",
      "                3.0,\n",
      "                -1.0000000000000009,\n",
      "                5.000000000000001,\n",
      "                4.0,\n",
      "                -10.000000000000002\n",
      "            ],\n",
      "            'imag': [\n",
      "                -8.94132603065464e-17,\n",
      "                -9.000000000000002,\n",
      "                3.9999999999999996,\n",
      "                -1.9999999999999991,\n",
      "                8.999999999999998,\n",
      "                6.0,\n",
      "                -6.999999999999999,\n",
      "                4.000000000000002,\n",
      "                2.0,\n",
      "                1.0000000000000002\n",
      "            ]\n",
      "        }\n",
      "    },\n",
      "    'history': {\n",
      "        'records': [\n",
      "            {\n",
      "                'time_local': '2023-04-28T14:58:10.166351',\n",
      "                'time_utc': '2023-04-28T13:58:10.166350',\n",
      "                'creator': {'name': 'RegressionPreparerGathered'},\n",
      "                'messages': [\n",
      "                    'Produced regression input data for 10 frequencies'\n",
      "                ],\n",
      "                'record_type': 'process'\n",
      "            },\n",
      "            {\n",
      "                'time_local': '2023-04-28T14:59:41.677473',\n",
      "                'time_utc': '2023-04-28T13:59:41.677472',\n",
      "                'creator': {\n",
      "                    'name': 'SolverScikitOLS',\n",
      "                    'fit_intercept': False,\n",
      "                    'normalize': False,\n",
      "                    'n_jobs': -2\n",
      "                },\n",
      "                'messages': ['Solved 10 evaluation frequencies'],\n",
      "                'record_type': 'process'\n",
      "            }\n",
      "        ]\n",
      "    },\n",
      "    'contributors': {\n",
      "        'out_data': {\n",
      "            'file_info': None,\n",
      "            'site_name': 'check',\n",
      "            'fs': 256.0,\n",
      "            'system': '',\n",
      "            'serial': '',\n",
      "            'wgs84_latitude': -999.0,\n",
      "            'wgs84_longitude': -999.0,\n",
      "            'easting': -999.0,\n",
      "            'northing': -999.0,\n",
      "            'elevation': -999.0,\n",
      "            'measurements': ['check'],\n",
      "            'chans': ['Ex', 'Ey'],\n",
      "            'n_evals': 10,\n",
      "            'eval_freqs': [\n",
      "                64.0,\n",
      "                45.25483399593904,\n",
      "                32.0,\n",
      "                22.62741699796952,\n",
      "                16.0,\n",
      "                11.31370849898476,\n",
      "                8.0,\n",
      "                5.65685424949238,\n",
      "                4.0,\n",
      "                2.82842712474619\n",
      "            ],\n",
      "            'histories': {'check': {'records': []}}\n",
      "        },\n",
      "        'in_data': {\n",
      "            'file_info': None,\n",
      "            'site_name': 'check',\n",
      "            'fs': 256.0,\n",
      "            'system': '',\n",
      "            'serial': '',\n",
      "            'wgs84_latitude': -999.0,\n",
      "            'wgs84_longitude': -999.0,\n",
      "            'easting': -999.0,\n",
      "            'northing': -999.0,\n",
      "            'elevation': -999.0,\n",
      "            'measurements': ['check'],\n",
      "            'chans': ['Hx', 'Hy'],\n",
      "            'n_evals': 10,\n",
      "            'eval_freqs': [\n",
      "                64.0,\n",
      "                45.25483399593904,\n",
      "                32.0,\n",
      "                22.62741699796952,\n",
      "                16.0,\n",
      "                11.31370849898476,\n",
      "                8.0,\n",
      "                5.65685424949238,\n",
      "                4.0,\n",
      "                2.82842712474619\n",
      "            ],\n",
      "            'histories': {'check': {'records': []}}\n",
      "        },\n",
      "        'cross_data': {\n",
      "            'file_info': None,\n",
      "            'site_name': 'check',\n",
      "            'fs': 256.0,\n",
      "            'system': '',\n",
      "            'serial': '',\n",
      "            'wgs84_latitude': -999.0,\n",
      "            'wgs84_longitude': -999.0,\n",
      "            'easting': -999.0,\n",
      "            'northing': -999.0,\n",
      "            'elevation': -999.0,\n",
      "            'measurements': ['check'],\n",
      "            'chans': ['Hx', 'Hy'],\n",
      "            'n_evals': 10,\n",
      "            'eval_freqs': [\n",
      "                64.0,\n",
      "                45.25483399593904,\n",
      "                32.0,\n",
      "                22.62741699796952,\n",
      "                16.0,\n",
      "                11.31370849898476,\n",
      "                8.0,\n",
      "                5.65685424949238,\n",
      "                4.0,\n",
      "                2.82842712474619\n",
      "            ],\n",
      "            'histories': {'check': {'records': []}}\n",
      "        }\n",
      "    }\n",
      "}\n"
     ]
    },
    {
     "name": "stderr",
     "output_type": "stream",
     "text": [
      "\n"
     ]
    }
   ],
   "source": [
    "soln = SolverScikitOLS().run(reg_data)\n",
    "soln.summary()"
   ]
  },
  {
   "attachments": {},
   "cell_type": "markdown",
   "metadata": {},
   "source": [
    "Now check the results with the testing data"
   ]
  },
  {
   "cell_type": "code",
   "execution_count": 87,
   "metadata": {},
   "outputs": [
    {
     "name": "stdout",
     "output_type": "stream",
     "text": [
      "                ExHx       ExHy      EyHx       EyHy\n",
      "64.000000  -4.0+9.0j   4.0+0.0j -3.0-4.0j   8.0+0.0j\n",
      "45.254834   0.0-7.0j  -3.0-8.0j -9.0+1.0j  -5.0-9.0j\n",
      "32.000000 -10.0+1.0j   1.0+6.0j -1.0+5.0j   4.0+4.0j\n",
      "22.627417   8.0+1.0j   9.0-8.0j -6.0+8.0j  -4.0-2.0j\n",
      "16.000000  -4.0+7.0j  -7.0+3.0j  7.0-2.0j  -9.0+9.0j\n",
      "11.313708   4.0-4.0j   1.0-3.0j  4.0-8.0j   3.0+6.0j\n",
      "8.000000   -7.0+7.0j  -3.0-7.0j -9.0-5.0j  -1.0-7.0j\n",
      "5.656854    7.0+1.0j  -9.0-1.0j -7.0+3.0j   5.0+4.0j\n",
      "4.000000   -3.0+3.0j  -3.0+5.0j  2.0+7.0j   4.0+2.0j\n",
      "2.828427   -2.0+4.0j  2.0-10.0j -4.0-2.0j -10.0+1.0j\n",
      "                ExHx       ExHy      EyHx       EyHy\n",
      "64.000000  -4.0+9.0j   4.0+0.0j -3.0-4.0j   8.0-0.0j\n",
      "45.254834  -0.0-7.0j  -3.0-8.0j -9.0+1.0j  -5.0-9.0j\n",
      "32.000000 -10.0+1.0j   1.0+6.0j -1.0+5.0j   4.0+4.0j\n",
      "22.627417   8.0+1.0j   9.0-8.0j -6.0+8.0j  -4.0-2.0j\n",
      "16.000000  -4.0+7.0j  -7.0+3.0j  7.0-2.0j  -9.0+9.0j\n",
      "11.313708   4.0-4.0j   1.0-3.0j  4.0-8.0j   3.0+6.0j\n",
      "8.000000   -7.0+7.0j  -3.0-7.0j -9.0-5.0j  -1.0-7.0j\n",
      "5.656854    7.0+1.0j  -9.0-1.0j -7.0+3.0j   5.0+4.0j\n",
      "4.000000   -3.0+3.0j  -3.0+5.0j  2.0+7.0j   4.0+2.0j\n",
      "2.828427   -2.0+4.0j  2.0-10.0j -4.0-2.0j -10.0+1.0j\n"
     ]
    }
   ],
   "source": [
    "soln_dict = {}\n",
    "for comp in tensor.columns:\n",
    "    soln_dict[comp] = soln.get_component(comp)\n",
    "tensor_estimated = pd.DataFrame(data=soln_dict, index=soln.freqs)\n",
    "print(tensor)\n",
    "print(tensor_estimated)"
   ]
  },
  {
   "cell_type": "code",
   "execution_count": null,
   "metadata": {},
   "outputs": [],
   "source": []
  }
 ],
 "metadata": {
  "kernelspec": {
   "display_name": "resistics-b-6cR9vn-py3.10",
   "language": "python",
   "name": "python3"
  },
  "language_info": {
   "codemirror_mode": {
    "name": "ipython",
    "version": 3
   },
   "file_extension": ".py",
   "mimetype": "text/x-python",
   "name": "python",
   "nbconvert_exporter": "python",
   "pygments_lexer": "ipython3",
   "version": "3.10.6"
  },
  "orig_nbformat": 4
 },
 "nbformat": 4,
 "nbformat_minor": 2
}
